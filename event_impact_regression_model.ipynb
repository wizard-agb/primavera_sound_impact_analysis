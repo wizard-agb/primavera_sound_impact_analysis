{
 "cells": [
  {
   "cell_type": "code",
   "execution_count": 52,
   "metadata": {},
   "outputs": [],
   "source": [
    "import pandas as pd\n",
    "from geopy.distance import geodesic\n",
    "import statsmodels.api as sm\n",
    "import numpy as np\n",
    "import matplotlib.pyplot as plt\n",
    "from sklearn.feature_extraction.text import CountVectorizer, TfidfVectorizer\n",
    "\n",
    "import spacy\n",
    "\n",
    "from nltk.stem import WordNetLemmatizer, PorterStemmer, LancasterStemmer\n",
    "from nltk.stem.snowball import SnowballStemmer\n",
    "from nltk.corpus import stopwords\n",
    "import pysentiment2 as ps\n",
    "\n",
    "from sklearn.impute import KNNImputer\n",
    "import re\n",
    "\n",
    "from stargazer.stargazer import Stargazer\n"
   ]
  },
  {
   "cell_type": "markdown",
   "metadata": {},
   "source": [
    "### Download relevant spacy packages if needed"
   ]
  },
  {
   "cell_type": "code",
   "execution_count": 53,
   "metadata": {},
   "outputs": [],
   "source": [
    "# ! python -m spacy download es_core_news_sm"
   ]
  },
  {
   "cell_type": "code",
   "execution_count": 54,
   "metadata": {},
   "outputs": [],
   "source": [
    "# load the data\n",
    "bcn_nonevent = pd.read_csv(r\"2024-05-11_2024-05-19_Barcelona.csv\", index_col=0)\n",
    "bcn_event = pd.read_csv(r\"2024-05-25_2024-06-02_Barcelona.csv\", index_col=0)\n",
    "\n",
    "val_nonevent = pd.read_csv(r\"2024-05-11_2024-05-19_Valencia.csv\", index_col=0)\n",
    "val_event = pd.read_csv(r\"2024-05-25_2024-06-02_Valencia.csv\", index_col=0)"
   ]
  },
  {
   "cell_type": "code",
   "execution_count": 55,
   "metadata": {},
   "outputs": [],
   "source": [
    "# load top hotel brands from https://brandirectory.com/rankings/hotels/table\n",
    "top_hotel_brands = pd.read_csv(r\"top_hotel_brands.csv\", header=None)\n",
    "top_hotel_brands.columns = ['name']\n",
    "top_hotel_brands = [x.lower() for x in top_hotel_brands.name]"
   ]
  },
  {
   "cell_type": "code",
   "execution_count": 56,
   "metadata": {},
   "outputs": [],
   "source": [
    "# get hotel names that are in both event and nonevent weeks\n",
    "\n",
    "df_intersect_bcn = list(set(bcn_event.name.str.lower()).intersection(bcn_nonevent.name.str.lower()))\n",
    "\n",
    "df_intersect_val = list(set(val_event.name.str.lower()).intersection(val_nonevent.name.str.lower()))\n"
   ]
  },
  {
   "cell_type": "code",
   "execution_count": 57,
   "metadata": {},
   "outputs": [],
   "source": [
    "# set values for event and nonevent weeks and city and noncity\n",
    "\n",
    "bcn_event['eventweek'] = 1\n",
    "bcn_nonevent['eventweek'] = 0\n",
    "bcn_event['city'] = 1\n",
    "bcn_nonevent['city'] = 1\n",
    "\n",
    "val_event['eventweek'] = 1\n",
    "val_nonevent['eventweek'] = 0\n",
    "val_event['city'] = 0\n",
    "val_nonevent['city'] = 0"
   ]
  },
  {
   "cell_type": "code",
   "execution_count": 58,
   "metadata": {},
   "outputs": [],
   "source": [
    "# with dummies in place we can now concat the dataframes\n",
    "\n",
    "df_bcn = pd.concat([bcn_event, bcn_nonevent], axis=0)\n",
    "\n",
    "df_val = pd.concat([val_event, val_nonevent], axis=0)"
   ]
  },
  {
   "cell_type": "code",
   "execution_count": 59,
   "metadata": {},
   "outputs": [],
   "source": [
    "# clean columns up\n",
    "df_bcn.columns = [x.lower().strip() for x in df_bcn.columns]\n",
    "df_val.columns = [x.lower().strip() for x in df_val.columns]\n"
   ]
  },
  {
   "cell_type": "code",
   "execution_count": 60,
   "metadata": {},
   "outputs": [],
   "source": [
    "# data cleaning and text processing\n",
    "\n",
    "def preprocess_data(df):\n",
    "    df['central_distance'] = df['central_distance'].str.extract(r'(\\d+,*\\d*)')\n",
    "    df['central_distance'] = df['central_distance'].str.replace(',', '.').astype(float)\n",
    "    # TODO clean outliers\n",
    "\n",
    "    df['price'] = df['price'].str.extract(r'(\\d+.*\\d*)')\n",
    "    df['price'] = df['price'].str.replace('.','').astype(float)\n",
    "\n",
    "    df['rating'] = df['rating'].str.replace(',','.').astype(float)\n",
    "\n",
    "    df['room_rating_personal'] = df['room_rating_personal'].str.replace(',','.').astype(float)\n",
    "    df['room_rating_instalaciones y servicios'] = df['room_rating_instalaciones y servicios'].str.replace(',','.').astype(float)\n",
    "    df['room_rating_limpieza'] = df['room_rating_limpieza'].str.replace(',','.').astype(float)\n",
    "    df['room_rating_confort'] = df['room_rating_confort'].str.replace(',','.').astype(float)\n",
    "    df['room_rating_relación calidad-precio'] = df['room_rating_relación calidad-precio'].str.replace(',','.').astype(float)\n",
    "    df['room_rating_ubicación'] = df['room_rating_ubicación'].str.replace(',','.').astype(float)\n",
    "\n",
    "    df['review_count'] = df['review_count'].str.extract(r'(\\d+\\.*\\d*)')\n",
    "    df['review_count'] = df['review_count'].str.replace('.','').astype(float)\n",
    "    \n",
    "    df = df.drop(columns=['photo_url', 'link', 'sustainability', 'original_price'])\n",
    "    \n",
    "    df['name'] = df.name.str.lower()\n",
    "    df.name.unique()\n",
    "\n",
    "    brand_name_hotels_index = []\n",
    "    for hotel_brand in top_hotel_brands: \n",
    "        brand_name_hotels_index = brand_name_hotels_index + (list(df['name'][df['name'].apply(lambda x: True if hotel_brand in x else False)].index))\n",
    "\n",
    "    df['is_major_brand'] = 0\n",
    "    df.loc[list(set(brand_name_hotels_index)), 'is_major_brand'] = 1\n",
    "\n",
    "    return df\n",
    "\n",
    "df_bcn = preprocess_data(df_bcn)\n",
    "df_val = preprocess_data(df_val)"
   ]
  },
  {
   "cell_type": "code",
   "execution_count": 61,
   "metadata": {},
   "outputs": [
    {
     "data": {
      "text/plain": [
       "eventweek\n",
       "0    1980.459406\n",
       "1    2350.514925\n",
       "Name: price, dtype: float64"
      ]
     },
     "execution_count": 61,
     "metadata": {},
     "output_type": "execute_result"
    }
   ],
   "source": [
    "df_bcn.groupby('eventweek')['price'].mean()"
   ]
  },
  {
   "cell_type": "markdown",
   "metadata": {},
   "source": [
    "Noticeable difference in event and non event week prices"
   ]
  },
  {
   "cell_type": "code",
   "execution_count": 62,
   "metadata": {},
   "outputs": [
    {
     "data": {
      "text/plain": [
       "eventweek\n",
       "0    1498.036145\n",
       "1    1686.878788\n",
       "Name: price, dtype: float64"
      ]
     },
     "execution_count": 62,
     "metadata": {},
     "output_type": "execute_result"
    }
   ],
   "source": [
    "df_val.groupby('eventweek')['price'].mean()"
   ]
  },
  {
   "cell_type": "markdown",
   "metadata": {},
   "source": [
    "Difference is small: less than 3% change that might be explained by the eventweek being closer to peak tourism season."
   ]
  },
  {
   "cell_type": "code",
   "execution_count": 63,
   "metadata": {},
   "outputs": [
    {
     "name": "stdout",
     "output_type": "stream",
     "text": [
      "before na drop\n",
      "(907, 25)\n",
      "(298, 25)\n",
      "after na drop\n",
      "(907, 25)\n",
      "(298, 25)\n"
     ]
    }
   ],
   "source": [
    "# reshape dataframes so that only hotel names that are in both event and nonevent weeks are included\n",
    "\n",
    "print('before na drop')\n",
    "print(df_bcn.shape)\n",
    "print(df_val.shape)\n",
    "\n",
    "df_bcn = df_bcn.dropna(subset=['map_lat', 'map_lng'])\n",
    "df_val = df_val.dropna(subset=['map_lat', 'map_lng'])\n",
    "\n",
    "print('after na drop')\n",
    "print(df_bcn.shape)\n",
    "print(df_val.shape)"
   ]
  },
  {
   "cell_type": "code",
   "execution_count": 64,
   "metadata": {},
   "outputs": [
    {
     "name": "stdout",
     "output_type": "stream",
     "text": [
      "       map_lat   map_lng  distance_evt_km\n",
      "0    41.396318  2.166042         5.162747\n",
      "1    41.389954  2.135844         7.781756\n",
      "2    41.379146  2.155932         6.764915\n",
      "3    41.397125  2.192051         3.145190\n",
      "4    41.394920  2.146824         6.741776\n",
      "..         ...       ...              ...\n",
      "500  41.385426  2.171605         5.285256\n",
      "501  41.390527  2.169314         5.164661\n",
      "502  41.406179  2.200967         2.045493\n",
      "503  41.379269  2.137359         8.114358\n",
      "504  41.381157  2.179595         5.047927\n",
      "\n",
      "[907 rows x 3 columns]\n"
     ]
    }
   ],
   "source": [
    "# find distance from each hotel to event location\n",
    "event_location = (41.4116874900034, 2.224311013153084)\n",
    "\n",
    "# Extract latitude and longitude columns from the DataFrame\n",
    "df_bcn['latlong'] = list(zip(df_bcn['map_lat'], df_bcn['map_lng']))\n",
    "\n",
    "# Calculate distances\n",
    "df_bcn['distance_evt_km'] = df_bcn['latlong'].apply(lambda point: geodesic(event_location, point).kilometers)\n",
    "\n",
    "# Print the DataFrame with distances\n",
    "print(df_bcn[['map_lat', 'map_lng', 'distance_evt_km']])\n"
   ]
  },
  {
   "cell_type": "code",
   "execution_count": 65,
   "metadata": {},
   "outputs": [
    {
     "name": "stdout",
     "output_type": "stream",
     "text": [
      "       map_lat   map_lng  distance_evt_km\n",
      "0    39.481479 -0.360015         1.842506\n",
      "1    39.471359 -0.375097         0.126739\n",
      "2    39.455926 -0.345902         3.062187\n",
      "3    39.470797 -0.375688         0.046675\n",
      "4    39.466847 -0.358334         1.581812\n",
      "..         ...       ...              ...\n",
      "161  39.462874 -0.339170         3.289005\n",
      "162  39.470007 -0.378859         0.244565\n",
      "163  39.471509 -0.351680         2.103778\n",
      "164  39.467026 -0.355920         1.778926\n",
      "165  39.478991 -0.382152         1.075308\n",
      "\n",
      "[298 rows x 3 columns]\n"
     ]
    }
   ],
   "source": [
    "# https://www.researchgate.net/publication/338387534_Taking_the_urban_tourist_activity_pulse_through_digital_footprints#pf10\n",
    "# using point identified to have the most social checkins in the city\n",
    "\n",
    "fixed_point2 = (39.47051961982795, -0.3760952134945981) # Pl. de l'Ajuntament\n",
    "\n",
    "# Extract latitude and longitude columns from the DataFrame\n",
    "df_val['latlong'] = list(zip(df_val['map_lat'], df_val['map_lng']))\n",
    "\n",
    "# Calculate distances\n",
    "df_val['distance_evt_km'] = df_val['latlong'].apply(lambda point: geodesic(fixed_point2, point).kilometers)\n",
    "\n",
    "# Print the DataFrame with distances\n",
    "print(df_val[['map_lat', 'map_lng', 'distance_evt_km']])"
   ]
  },
  {
   "cell_type": "code",
   "execution_count": 66,
   "metadata": {},
   "outputs": [],
   "source": [
    "df = pd.concat([df_bcn, df_val], axis=0, ignore_index=True)"
   ]
  },
  {
   "cell_type": "markdown",
   "metadata": {},
   "source": [
    "### Divide by 8 to get nightly price"
   ]
  },
  {
   "cell_type": "code",
   "execution_count": 67,
   "metadata": {},
   "outputs": [],
   "source": [
    "df['price'] = df['price'] / 8"
   ]
  },
  {
   "cell_type": "markdown",
   "metadata": {},
   "source": [
    "Next we tackle an issue with different units in the scraped 'central_distance' feature, where some distances under one kilometer are written in meters, while everything above is in kilometers (f.ex: 300m vs. 1.2km)"
   ]
  },
  {
   "cell_type": "code",
   "execution_count": 68,
   "metadata": {},
   "outputs": [
    {
     "data": {
      "text/plain": [
       "<bound method Series.sort_values of 17      250.0\n",
       "18      350.0\n",
       "25      450.0\n",
       "32      200.0\n",
       "44      500.0\n",
       "        ...  \n",
       "1163    150.0\n",
       "1165    250.0\n",
       "1188    400.0\n",
       "1195    150.0\n",
       "1201    200.0\n",
       "Name: central_distance, Length: 200, dtype: float64>"
      ]
     },
     "execution_count": 68,
     "metadata": {},
     "output_type": "execute_result"
    }
   ],
   "source": [
    "# clean outliers\n",
    "df.loc[df['central_distance'] > 27, 'central_distance'].sort_values\n"
   ]
  },
  {
   "cell_type": "code",
   "execution_count": 69,
   "metadata": {},
   "outputs": [
    {
     "data": {
      "text/plain": [
       "<Axes: >"
      ]
     },
     "execution_count": 69,
     "metadata": {},
     "output_type": "execute_result"
    },
    {
     "data": {
      "image/png": "[encoded data removed]",
      "text/plain": [
       "<Figure size 640x480 with 1 Axes>"
      ]
     },
     "metadata": {},
     "output_type": "display_data"
    }
   ],
   "source": [
    "# everything above 27km is supposed to be meters so we need to divide by 1000\n",
    "\n",
    "df.loc[df['central_distance'] > 27, 'central_distance'] /= 1000\n",
    "\n",
    "df['central_distance'].hist(bins=10)"
   ]
  },
  {
   "cell_type": "code",
   "execution_count": 70,
   "metadata": {},
   "outputs": [
    {
     "data": {
      "text/plain": [
       "<matplotlib.collections.PathCollection at 0x29b729110>"
      ]
     },
     "execution_count": 70,
     "metadata": {},
     "output_type": "execute_result"
    },
    {
     "data": {
      "image/png": "[encoded data removed]",
      "text/plain": [
       "<Figure size 640x480 with 1 Axes>"
      ]
     },
     "metadata": {},
     "output_type": "display_data"
    }
   ],
   "source": [
    "plt.scatter(df.price, df.central_distance)"
   ]
  },
  {
   "cell_type": "code",
   "execution_count": 71,
   "metadata": {},
   "outputs": [
    {
     "data": {
      "text/plain": [
       "<matplotlib.collections.PathCollection at 0x29b7bd010>"
      ]
     },
     "execution_count": 71,
     "metadata": {},
     "output_type": "execute_result"
    },
    {
     "data": {
      "image/png": "[encoded data removed]",
      "text/plain": [
       "<Figure size 640x480 with 1 Axes>"
      ]
     },
     "metadata": {},
     "output_type": "display_data"
    }
   ],
   "source": [
    "# we also have some outliers in the central distance column that we need to clean\n",
    "# keeping majority of data just extreme outliers\n",
    "\n",
    "df = df.loc[df.price < (df.price.mean()+(df.price.std()*10))]\n",
    "plt.scatter(df.price, df.central_distance)"
   ]
  },
  {
   "cell_type": "markdown",
   "metadata": {},
   "source": [
    "Cleaning the data: Removing unnecessary columns, imputing or removing NAs where necessary. We also only take those hotels that appear both in the event and non-event week."
   ]
  },
  {
   "cell_type": "code",
   "execution_count": 72,
   "metadata": {},
   "outputs": [
    {
     "data": {
      "text/plain": [
       "name                                       0\n",
       "central_distance                           0\n",
       "rating                                     7\n",
       "comfort_rating                           136\n",
       "review_count                               7\n",
       "room_description                           0\n",
       "room_specifics                            11\n",
       "price                                      0\n",
       "neighborhood_city                          0\n",
       "start_date                                 0\n",
       "end_date                                   0\n",
       "map_lat                                    0\n",
       "map_lng                                    0\n",
       "description                                0\n",
       "room_rating_personal                       7\n",
       "room_rating_instalaciones y servicios     10\n",
       "room_rating_limpieza                      10\n",
       "room_rating_confort                       10\n",
       "room_rating_relación calidad-precio       10\n",
       "room_rating_ubicación                     10\n",
       "room_rating_wifi gratis                   34\n",
       "room_rating_10                           895\n",
       "eventweek                                  0\n",
       "city                                       0\n",
       "is_major_brand                             0\n",
       "latlong                                    0\n",
       "distance_evt_km                            0\n",
       "dtype: int64"
      ]
     },
     "execution_count": 72,
     "metadata": {},
     "output_type": "execute_result"
    }
   ],
   "source": [
    "df_bcn.isna().sum()"
   ]
  },
  {
   "cell_type": "code",
   "execution_count": 73,
   "metadata": {},
   "outputs": [],
   "source": [
    "get_numeric_data = df.select_dtypes(include=[np.number]).columns"
   ]
  },
  {
   "cell_type": "code",
   "execution_count": 74,
   "metadata": {},
   "outputs": [
    {
     "name": "stdout",
     "output_type": "stream",
     "text": [
      "before clean up\n",
      "(1203, 27)\n",
      "(1203, 27)\n",
      "after clean up\n",
      "(1019, 25)\n",
      "(1019, 25)\n"
     ]
    },
    {
     "name": "stderr",
     "output_type": "stream",
     "text": [
      "/Users/andrewbennett/anaconda3/lib/python3.11/site-packages/sklearn/utils/validation.py:767: FutureWarning: is_sparse is deprecated and will be removed in a future version. Check `isinstance(dtype, pd.SparseDtype)` instead.\n",
      "  if not hasattr(array, \"sparse\") and array.dtypes.apply(is_sparse).any():\n",
      "/Users/andrewbennett/anaconda3/lib/python3.11/site-packages/sklearn/utils/validation.py:605: FutureWarning: is_sparse is deprecated and will be removed in a future version. Check `isinstance(dtype, pd.SparseDtype)` instead.\n",
      "  if is_sparse(pd_dtype):\n",
      "/Users/andrewbennett/anaconda3/lib/python3.11/site-packages/sklearn/utils/validation.py:614: FutureWarning: is_sparse is deprecated and will be removed in a future version. Check `isinstance(dtype, pd.SparseDtype)` instead.\n",
      "  if is_sparse(pd_dtype) or not is_extension_array_dtype(pd_dtype):\n",
      "/Users/andrewbennett/anaconda3/lib/python3.11/site-packages/sklearn/utils/validation.py:767: FutureWarning: is_sparse is deprecated and will be removed in a future version. Check `isinstance(dtype, pd.SparseDtype)` instead.\n",
      "  if not hasattr(array, \"sparse\") and array.dtypes.apply(is_sparse).any():\n",
      "/Users/andrewbennett/anaconda3/lib/python3.11/site-packages/sklearn/utils/validation.py:605: FutureWarning: is_sparse is deprecated and will be removed in a future version. Check `isinstance(dtype, pd.SparseDtype)` instead.\n",
      "  if is_sparse(pd_dtype):\n",
      "/Users/andrewbennett/anaconda3/lib/python3.11/site-packages/sklearn/utils/validation.py:614: FutureWarning: is_sparse is deprecated and will be removed in a future version. Check `isinstance(dtype, pd.SparseDtype)` instead.\n",
      "  if is_sparse(pd_dtype) or not is_extension_array_dtype(pd_dtype):\n"
     ]
    }
   ],
   "source": [
    "# drop unnecessary columns and impute na rows\n",
    "\n",
    "print('before clean up')\n",
    "print(df.shape)\n",
    "print(df.shape)\n",
    "\n",
    "df = df.drop(columns=['comfort_rating', 'room_rating_wifi gratis', 'room_rating_10'])\n",
    "\n",
    "# impute missing numerical values\n",
    "imputer = KNNImputer(n_neighbors=5)\n",
    "numeric_cols = df.select_dtypes(include=[np.number]).columns\n",
    "df[numeric_cols] = pd.DataFrame(imputer.fit_transform(df[numeric_cols]), columns=numeric_cols)\n",
    "\n",
    "# fill na strings\n",
    "df['room_specifics'] = df['room_specifics'].fillna('')\n",
    "\n",
    "# reshape dataframes so that only hotel names that are in both event and nonevent weeks are included\n",
    "df_bcn = df.loc[(df.name.isin(df_intersect_bcn)) & (df.city == 1)]\n",
    "#df_val = df.loc[(df.name.isin(df_intersect_val)) & (df.city == 0)]\n",
    "df.loc[(df.name.isin(df_intersect_val)) & (df.city == 0)]\n",
    "#df = pd.concat([df_bcn, df_val], axis=0, ignore_index=True)\n",
    "\n",
    "# reshape dataframes so that only hotel names that are in both event and nonevent weeks are included\n",
    "df_bcn = df.loc[(df.name.isin(df_intersect_bcn)) & (df.city == 1)]\n",
    "df_val = df.loc[(df.name.isin(df_intersect_val)) & (df.city == 0)]\n",
    "df = pd.concat([df_bcn, df_val], axis=0, ignore_index=True)\n",
    "\n",
    "# reset index after cleanup \n",
    "df = df.reset_index()\n",
    "\n",
    "print('after clean up')\n",
    "print(df.shape)\n",
    "print(df.shape)\n"
   ]
  },
  {
   "cell_type": "code",
   "execution_count": 75,
   "metadata": {},
   "outputs": [
    {
     "data": {
      "text/plain": [
       "city\n",
       "1.0    773\n",
       "0.0    246\n",
       "Name: count, dtype: int64"
      ]
     },
     "execution_count": 75,
     "metadata": {},
     "output_type": "execute_result"
    }
   ],
   "source": [
    "df.city.value_counts()"
   ]
  },
  {
   "cell_type": "code",
   "execution_count": 76,
   "metadata": {},
   "outputs": [],
   "source": [
    "# create interaction term for city and week\n",
    "\n",
    "df['cityxevt'] = df['city'] * df['eventweek']"
   ]
  },
  {
   "cell_type": "code",
   "execution_count": 77,
   "metadata": {},
   "outputs": [],
   "source": [
    "# create interaction term for distance and week \n",
    "\n",
    "df['distance_cityevt_interaction'] = df['cityxevt'] * df['distance_evt_km']"
   ]
  },
  {
   "cell_type": "code",
   "execution_count": 78,
   "metadata": {},
   "outputs": [
    {
     "data": {
      "text/plain": [
       "cityxevt\n",
       "0.0    227.107820\n",
       "1.0    288.319301\n",
       "Name: price, dtype: float64"
      ]
     },
     "execution_count": 78,
     "metadata": {},
     "output_type": "execute_result"
    }
   ],
   "source": [
    "df.groupby('cityxevt')['price'].mean()"
   ]
  },
  {
   "cell_type": "code",
   "execution_count": 79,
   "metadata": {},
   "outputs": [
    {
     "data": {
      "text/plain": [
       "cityxevt\n",
       "0.0    633\n",
       "1.0    386\n",
       "Name: count, dtype: int64"
      ]
     },
     "execution_count": 79,
     "metadata": {},
     "output_type": "execute_result"
    }
   ],
   "source": [
    "df.cityxevt.value_counts()"
   ]
  },
  {
   "cell_type": "markdown",
   "metadata": {},
   "source": [
    "## Event Week Regression"
   ]
  },
  {
   "cell_type": "code",
   "execution_count": 80,
   "metadata": {},
   "outputs": [
    {
     "name": "stdout",
     "output_type": "stream",
     "text": [
      "                            OLS Regression Results                            \n",
      "==============================================================================\n",
      "Dep. Variable:                  price   R-squared:                       0.021\n",
      "Model:                            OLS   Adj. R-squared:                  0.020\n",
      "Method:                 Least Squares   F-statistic:                     21.94\n",
      "Date:                Mon, 05 Feb 2024   Prob (F-statistic):           3.19e-06\n",
      "Time:                        08:46:28   Log-Likelihood:                -6388.5\n",
      "No. Observations:                1019   AIC:                         1.278e+04\n",
      "Df Residuals:                    1017   BIC:                         1.279e+04\n",
      "Df Model:                           1                                         \n",
      "Covariance Type:            nonrobust                                         \n",
      "==============================================================================\n",
      "                 coef    std err          t      P>|t|      [0.025      0.975]\n",
      "------------------------------------------------------------------------------\n",
      "const        231.4678      5.676     40.783      0.000     220.331     242.605\n",
      "eventweek     37.5437      8.015      4.684      0.000      21.817      53.271\n",
      "==============================================================================\n",
      "Omnibus:                      997.038   Durbin-Watson:                   1.438\n",
      "Prob(Omnibus):                  0.000   Jarque-Bera (JB):            69215.086\n",
      "Skew:                           4.374   Prob(JB):                         0.00\n",
      "Kurtosis:                      42.416   Cond. No.                         2.62\n",
      "==============================================================================\n",
      "\n",
      "Notes:\n",
      "[1] Standard Errors assume that the covariance matrix of the errors is correctly specified.\n"
     ]
    }
   ],
   "source": [
    "\n",
    "# Generate some sample data\n",
    "np.random.seed(42)\n",
    "\n",
    "X = df[['eventweek']]\n",
    "\n",
    "y = df['price']\n",
    "\n",
    "X_b = sm.add_constant(X)\n",
    "\n",
    "# Create and fit the OLS (Ordinary Least Squares) model\n",
    "model = sm.OLS(y, X_b)\n",
    "results = model.fit()\n",
    "\n",
    "# Print regression results summary\n",
    "print(results.summary())\n"
   ]
  },
  {
   "cell_type": "markdown",
   "metadata": {},
   "source": [
    "## City + Event Week Regression"
   ]
  },
  {
   "cell_type": "code",
   "execution_count": 81,
   "metadata": {},
   "outputs": [
    {
     "name": "stdout",
     "output_type": "stream",
     "text": [
      "                            OLS Regression Results                            \n",
      "==============================================================================\n",
      "Dep. Variable:                  price   R-squared:                       0.070\n",
      "Model:                            OLS   Adj. R-squared:                  0.068\n",
      "Method:                 Least Squares   F-statistic:                     37.99\n",
      "Date:                Mon, 05 Feb 2024   Prob (F-statistic):           1.23e-16\n",
      "Time:                        08:46:28   Log-Likelihood:                -6362.6\n",
      "No. Observations:                1019   AIC:                         1.273e+04\n",
      "Df Residuals:                    1016   BIC:                         1.275e+04\n",
      "Df Model:                           2                                         \n",
      "Covariance Type:            nonrobust                                         \n",
      "==============================================================================\n",
      "                 coef    std err          t      P>|t|      [0.025      0.975]\n",
      "------------------------------------------------------------------------------\n",
      "const        180.8506      8.892     20.338      0.000     163.402     198.300\n",
      "city          66.4431      9.134      7.274      0.000      48.519      84.367\n",
      "eventweek     37.9709      7.818      4.857      0.000      22.630      53.312\n",
      "==============================================================================\n",
      "Omnibus:                     1027.776   Durbin-Watson:                   1.511\n",
      "Prob(Omnibus):                  0.000   Jarque-Bera (JB):            77267.481\n",
      "Skew:                           4.577   Prob(JB):                         0.00\n",
      "Kurtosis:                      44.666   Cond. No.                         4.35\n",
      "==============================================================================\n",
      "\n",
      "Notes:\n",
      "[1] Standard Errors assume that the covariance matrix of the errors is correctly specified.\n"
     ]
    }
   ],
   "source": [
    "\n",
    "# Generate some sample data\n",
    "np.random.seed(42)\n",
    "\n",
    "\n",
    "X = df[['city', 'eventweek']]\n",
    "\n",
    "y = df['price']\n",
    "\n",
    "X_b = sm.add_constant(X)\n",
    "\n",
    "# Create and fit the OLS (Ordinary Least Squares) model\n",
    "model = sm.OLS(y, X_b)\n",
    "results = model.fit()\n",
    "\n",
    "# Print regression results summary\n",
    "print(results.summary())\n"
   ]
  },
  {
   "cell_type": "markdown",
   "metadata": {},
   "source": [
    "## City + Event Week + City x Event Week Regression"
   ]
  },
  {
   "cell_type": "code",
   "execution_count": 82,
   "metadata": {},
   "outputs": [
    {
     "name": "stdout",
     "output_type": "stream",
     "text": [
      "                            OLS Regression Results                            \n",
      "==============================================================================\n",
      "Dep. Variable:                  price   R-squared:                       0.071\n",
      "Model:                            OLS   Adj. R-squared:                  0.069\n",
      "Method:                 Least Squares   F-statistic:                     25.99\n",
      "Date:                Mon, 05 Feb 2024   Prob (F-statistic):           3.37e-16\n",
      "Time:                        08:46:28   Log-Likelihood:                -6361.7\n",
      "No. Observations:                1019   AIC:                         1.273e+04\n",
      "Df Residuals:                    1015   BIC:                         1.275e+04\n",
      "Df Model:                           3                                         \n",
      "Covariance Type:            nonrobust                                         \n",
      "==============================================================================\n",
      "                 coef    std err          t      P>|t|      [0.025      0.975]\n",
      "------------------------------------------------------------------------------\n",
      "const        190.5950     11.338     16.810      0.000     168.346     212.844\n",
      "city          53.6521     12.990      4.130      0.000      28.161      79.143\n",
      "eventweek     18.7940     15.906      1.182      0.238     -12.418      50.006\n",
      "cityxevt      25.2782     18.262      1.384      0.167     -10.557      61.113\n",
      "==============================================================================\n",
      "Omnibus:                     1032.112   Durbin-Watson:                   1.514\n",
      "Prob(Omnibus):                  0.000   Jarque-Bera (JB):            78662.985\n",
      "Skew:                           4.605   Prob(JB):                         0.00\n",
      "Kurtosis:                      45.046   Cond. No.                         10.1\n",
      "==============================================================================\n",
      "\n",
      "Notes:\n",
      "[1] Standard Errors assume that the covariance matrix of the errors is correctly specified.\n"
     ]
    }
   ],
   "source": [
    "\n",
    "# Generate some sample data\n",
    "np.random.seed(42)\n",
    "\n",
    "X = df[['city', 'eventweek', 'cityxevt']]\n",
    "\n",
    "y = df['price']\n",
    "\n",
    "X_b = sm.add_constant(X)\n",
    "\n",
    "# Create and fit the OLS (Ordinary Least Squares) model\n",
    "model = sm.OLS(y, X_b)\n",
    "results = model.fit()\n",
    "\n",
    "# Print regression results summary\n",
    "print(results.summary())\n"
   ]
  },
  {
   "cell_type": "markdown",
   "metadata": {},
   "source": [
    "## City + Event Week + City x Event Week + Distance x City x Event + Rating + Review Count Regression\n",
    "Testing city_event_distance interaction term"
   ]
  },
  {
   "cell_type": "code",
   "execution_count": 83,
   "metadata": {},
   "outputs": [
    {
     "name": "stdout",
     "output_type": "stream",
     "text": [
      "                            OLS Regression Results                            \n",
      "==============================================================================\n",
      "Dep. Variable:                  price   R-squared:                       0.230\n",
      "Model:                            OLS   Adj. R-squared:                  0.225\n",
      "Method:                 Least Squares   F-statistic:                     50.30\n",
      "Date:                Mon, 05 Feb 2024   Prob (F-statistic):           3.01e-54\n",
      "Time:                        08:46:28   Log-Likelihood:                -6266.4\n",
      "No. Observations:                1019   AIC:                         1.255e+04\n",
      "Df Residuals:                    1012   BIC:                         1.258e+04\n",
      "Df Model:                           6                                         \n",
      "Covariance Type:            nonrobust                                         \n",
      "================================================================================================\n",
      "                                   coef    std err          t      P>|t|      [0.025      0.975]\n",
      "------------------------------------------------------------------------------------------------\n",
      "const                         -415.5970     45.502     -9.134      0.000    -504.886    -326.308\n",
      "city                            54.5359     11.848      4.603      0.000      31.285      77.786\n",
      "eventweek                       13.0995     14.515      0.902      0.367     -15.383      41.582\n",
      "cityxevt                       111.4656     27.226      4.094      0.000      58.041     164.891\n",
      "distance_cityevt_interaction   -14.3722      3.799     -3.783      0.000     -21.827      -6.917\n",
      "rating                          73.8415      5.349     13.804      0.000      63.344      84.339\n",
      "review_count                    -0.0012      0.002     -0.650      0.516      -0.005       0.002\n",
      "==============================================================================\n",
      "Omnibus:                     1106.464   Durbin-Watson:                   1.583\n",
      "Prob(Omnibus):                  0.000   Jarque-Bera (JB):           112697.100\n",
      "Skew:                           5.079   Prob(JB):                         0.00\n",
      "Kurtosis:                      53.509   Cond. No.                     3.71e+04\n",
      "==============================================================================\n",
      "\n",
      "Notes:\n",
      "[1] Standard Errors assume that the covariance matrix of the errors is correctly specified.\n",
      "[2] The condition number is large, 3.71e+04. This might indicate that there are\n",
      "strong multicollinearity or other numerical problems.\n"
     ]
    }
   ],
   "source": [
    "\n",
    "# Generate some sample data\n",
    "np.random.seed(42)\n",
    "\n",
    "X = X = df[['city', 'eventweek', 'cityxevt', 'distance_cityevt_interaction', 'rating', 'review_count']]\n",
    "\n",
    "y = df['price']\n",
    "\n",
    "X_b = sm.add_constant(X)\n",
    "\n",
    "# Create and fit the OLS (Ordinary Least Squares) model\n",
    "model = sm.OLS(y, X_b)\n",
    "results = model.fit()\n",
    "\n",
    "# Print regression results summary\n",
    "print(results.summary())\n"
   ]
  },
  {
   "cell_type": "markdown",
   "metadata": {},
   "source": [
    "The city_event_distance dummy is almost 90% significant which is interesting"
   ]
  },
  {
   "cell_type": "markdown",
   "metadata": {},
   "source": [
    "## City + Event Week + City x Event Week + Distance x City x Event + Distance + Rating + Review Count Regression\n",
    "\n",
    "Adding a control for the distance"
   ]
  },
  {
   "cell_type": "code",
   "execution_count": 84,
   "metadata": {},
   "outputs": [
    {
     "name": "stdout",
     "output_type": "stream",
     "text": [
      "                            OLS Regression Results                            \n",
      "==============================================================================\n",
      "Dep. Variable:                  price   R-squared:                       0.233\n",
      "Model:                            OLS   Adj. R-squared:                  0.228\n",
      "Method:                 Least Squares   F-statistic:                     43.96\n",
      "Date:                Mon, 05 Feb 2024   Prob (F-statistic):           2.17e-54\n",
      "Time:                        08:46:28   Log-Likelihood:                -6264.0\n",
      "No. Observations:                1019   AIC:                         1.254e+04\n",
      "Df Residuals:                    1011   BIC:                         1.258e+04\n",
      "Df Model:                           7                                         \n",
      "Covariance Type:            nonrobust                                         \n",
      "================================================================================================\n",
      "                                   coef    std err          t      P>|t|      [0.025      0.975]\n",
      "------------------------------------------------------------------------------------------------\n",
      "const                         -399.3760     46.023     -8.678      0.000    -489.688    -309.064\n",
      "city                            75.4005     15.214      4.956      0.000      45.546     105.255\n",
      "eventweek                       13.1012     14.488      0.904      0.366     -15.328      41.531\n",
      "cityxevt                        79.7713     30.820      2.588      0.010      19.293     140.250\n",
      "distance_cityevt_interaction    -8.7258      4.592     -1.900      0.058     -17.737       0.285\n",
      "distance_evt_km                 -5.7429      2.634     -2.180      0.029     -10.912      -0.573\n",
      "rating                          73.3566      5.344     13.727      0.000      62.870      83.844\n",
      "review_count                    -0.0016      0.002     -0.850      0.395      -0.005       0.002\n",
      "==============================================================================\n",
      "Omnibus:                     1109.678   Durbin-Watson:                   1.585\n",
      "Prob(Omnibus):                  0.000   Jarque-Bera (JB):           114348.418\n",
      "Skew:                           5.100   Prob(JB):                         0.00\n",
      "Kurtosis:                      53.884   Cond. No.                     3.74e+04\n",
      "==============================================================================\n",
      "\n",
      "Notes:\n",
      "[1] Standard Errors assume that the covariance matrix of the errors is correctly specified.\n",
      "[2] The condition number is large, 3.74e+04. This might indicate that there are\n",
      "strong multicollinearity or other numerical problems.\n"
     ]
    }
   ],
   "source": [
    "\n",
    "# Generate some sample data\n",
    "np.random.seed(42)\n",
    "\n",
    "X = X = df[['city', 'eventweek', 'cityxevt', 'distance_cityevt_interaction', 'distance_evt_km', 'rating', 'review_count']]\n",
    "\n",
    "y = df['price']\n",
    "\n",
    "X_b = sm.add_constant(X)\n",
    "\n",
    "# Create and fit the OLS (Ordinary Least Squares) model\n",
    "model = sm.OLS(y, X_b)\n",
    "results = model.fit()\n",
    "\n",
    "# Print regression results summary\n",
    "print(results.summary())\n"
   ]
  },
  {
   "cell_type": "markdown",
   "metadata": {},
   "source": [
    "The city_event_distance interaction term has increased in significance after adding the control but still has multicollinearity"
   ]
  },
  {
   "cell_type": "markdown",
   "metadata": {},
   "source": [
    "## NLP Analysis: Text Preprocessing"
   ]
  },
  {
   "cell_type": "code",
   "execution_count": 85,
   "metadata": {},
   "outputs": [],
   "source": [
    "# combine all text fields into 1 column\n",
    "\n",
    "df['all_text'] = df['name'] + ' ' + df['room_description'] + ' ' + df['neighborhood_city'] + ' ' + df['room_specifics'] + ' ' + df['description']"
   ]
  },
  {
   "cell_type": "code",
   "execution_count": 86,
   "metadata": {},
   "outputs": [],
   "source": [
    "# create corpus\n",
    "corpus = df['all_text'].tolist()"
   ]
  },
  {
   "cell_type": "code",
   "execution_count": 87,
   "metadata": {},
   "outputs": [],
   "source": [
    "# define preprocessing functions for spanish text\n",
    "\n",
    "lemmatizer = WordNetLemmatizer()\n",
    "\n",
    "sp = spacy.load('es_core_news_sm')\n",
    "\n",
    "def spacy_lemmatize_corpus(corpus):\n",
    "    '''\n",
    "        lemmatizes based on the part of speech of the word\n",
    "        .pos_ to access part of speech\n",
    "        .lemma_ to access the lemmatized word\n",
    "    '''\n",
    "    lemmatized_corpus = []\n",
    "    for doc in corpus:\n",
    "        sp_text = sp(doc)\n",
    "        lemmatized_doc = [word.lemma_ for word in sp_text]\n",
    "        lemmatized_corpus.append(\" \".join(lemmatized_doc))\n",
    "\n",
    "    return lemmatized_corpus\n",
    "\n",
    "def remove_non_words_corpus(corpus): \n",
    "    return [' '.join(re.split(r'\\W+', doc)).strip() for doc in corpus]\n",
    "\n",
    "def lowercase_corpus_no_abbr(corpus):\n",
    "    processed_corpus = []\n",
    "    for doc in corpus:\n",
    "        doc_arr = []\n",
    "        for word in doc.split(' '):\n",
    "            if re.match('([A-Z]+[a-z]*){2,}', word):\n",
    "                doc_arr.append(word)\n",
    "            else:\n",
    "                doc_arr.append(word.lower())\n",
    "        processed_corpus.append(' '.join(doc_arr))\n",
    "    return processed_corpus\n",
    "\n",
    "def remove_stop_words_corpus(corpus, language='english'):\n",
    "    stop_words = set(stopwords.words(language))\n",
    "    processed_corpus = []\n",
    "    for doc in corpus:\n",
    "        words = doc.split()\n",
    "        lowered = [w for w in words if w not in stop_words]\n",
    "        processed_corpus.append(' '.join(lowered))\n",
    "    return processed_corpus\n",
    "\n",
    "def stem_corpus(corpus, stem_type='porter', language=None):\n",
    "    stemmer = None\n",
    "    if stem_type == 'lancaster':\n",
    "        stemmer = LancasterStemmer()\n",
    "    elif stem_type == 'porter':\n",
    "        stemmer = PorterStemmer()\n",
    "    elif language is not None:\n",
    "        stemmer = SnowballStemmer(language)\n",
    "    \n",
    "    processed_corpus = []\n",
    "    for doc in corpus:\n",
    "        words = doc.split()\n",
    "        stemmed = [stemmer.stem(w) for w in words]\n",
    "        processed_corpus.append(' '.join(stemmed))\n",
    "    return processed_corpus\n"
   ]
  },
  {
   "cell_type": "code",
   "execution_count": 88,
   "metadata": {},
   "outputs": [],
   "source": [
    "# preprocess corpus\n",
    "\n",
    "lemmatized_corpus = spacy_lemmatize_corpus(corpus)\n",
    "\n",
    "no_punctuation_corpus = remove_non_words_corpus(lemmatized_corpus)\n",
    "\n",
    "lowercase_corpus = lowercase_corpus_no_abbr(no_punctuation_corpus)\n",
    "\n",
    "no_stop_words = remove_stop_words_corpus(lowercase_corpus, language='spanish')\n",
    "\n",
    "processed_corpus = no_stop_words.copy()\n",
    "\n",
    "# not stemming anymore - stemmed_corpus = stem_corpus(no_stop_words, stem_type='porter')\n",
    "\n",
    "df['processed_corpus'] = processed_corpus"
   ]
  },
  {
   "cell_type": "markdown",
   "metadata": {},
   "source": [
    "## NLP Analysis: Document Vector Matrix"
   ]
  },
  {
   "cell_type": "code",
   "execution_count": 89,
   "metadata": {},
   "outputs": [
    {
     "name": "stdout",
     "output_type": "stream",
     "text": [
      "document term matrix has size (1019, 306)\n",
      "306\n"
     ]
    }
   ],
   "source": [
    "# create document term matrix\n",
    "\n",
    "cv = CountVectorizer(ngram_range = (1,3), min_df=.1, max_df=.7)\n",
    "cv.fit(processed_corpus)\n",
    "vectorized_text=cv.transform(processed_corpus)\n",
    "vectorized_text=vectorized_text.todense()\n",
    "print(\"document term matrix has size\", vectorized_text.shape)\n",
    "print(len(cv.get_feature_names_out()))"
   ]
  },
  {
   "cell_type": "code",
   "execution_count": 90,
   "metadata": {},
   "outputs": [
    {
     "data": {
      "text/plain": [
       "hotel                         2374\n",
       "metro                         1561\n",
       "minuto                        1262\n",
       "pie                           1217\n",
       "km                            1167\n",
       "valencia                      1050\n",
       "minuto pie                     982\n",
       "solo                           897\n",
       "aeropuerto                     825\n",
       "estación                       820\n",
       "poder                          816\n",
       "privado                        805\n",
       "contar                         710\n",
       "centro                         694\n",
       "restaurante                    653\n",
       "plaza                          645\n",
       "disponer                       630\n",
       "baño privado                   619\n",
       "bar                            586\n",
       "servicio                       586\n",
       "individual                     557\n",
       "situado                        554\n",
       "pantalla                       549\n",
       "ciudad                         543\n",
       "plano                          543\n",
       "pantalla plano                 543\n",
       "descuento                      521\n",
       "tv pantalla                    521\n",
       "tv pantalla plano              515\n",
       "sesión                         513\n",
       "ahorrar alojamiento solo       507\n",
       "ahorrar alojamiento            507\n",
       "conseguir                      507\n",
       "conseguir descuento            507\n",
       "conseguir descuento genius     507\n",
       "descuento genius               507\n",
       "tener iniciar sesión           507\n",
       "tener iniciar                  507\n",
       "genius                         507\n",
       "solo tener iniciar             507\n",
       "poder conseguir                507\n",
       "iniciar                        507\n",
       "iniciar sesión                 507\n",
       "ahorrar                        507\n",
       "solo tener                     507\n",
       "poder conseguir descuento      507\n",
       "alojamiento solo tener         507\n",
       "alojamiento solo               507\n",
       "estación metro                 497\n",
       "establecimiento                495\n",
       "dtype: int64"
      ]
     },
     "execution_count": 90,
     "metadata": {},
     "output_type": "execute_result"
    }
   ],
   "source": [
    "# turn the matrix into a dataframe\n",
    "df_text=pd.DataFrame(vectorized_text,columns=cv.get_feature_names_out())\n",
    "#analyze the dv_matrix to see the most useful n_grams\n",
    "df_text.sum().sort_values(ascending=False).head(50)"
   ]
  },
  {
   "cell_type": "markdown",
   "metadata": {},
   "source": [
    "## NLP Analysis: TF-IDF Matrix"
   ]
  },
  {
   "cell_type": "code",
   "execution_count": 91,
   "metadata": {},
   "outputs": [
    {
     "name": "stdout",
     "output_type": "stream",
     "text": [
      "document term matrix has size (1019, 318)\n"
     ]
    }
   ],
   "source": [
    "cv = TfidfVectorizer(ngram_range = (1,3), norm=None, min_df=.1, max_df=.8)\n",
    "cv.fit(processed_corpus)\n",
    "vectorized_text=cv.transform(processed_corpus)\n",
    "vectorized_text=vectorized_text.todense()\n",
    "print(\"document term matrix has size\", vectorized_text.shape)"
   ]
  },
  {
   "cell_type": "code",
   "execution_count": 92,
   "metadata": {},
   "outputs": [],
   "source": [
    "# turn the matrix into a dataframe\n",
    "df_text_idf=pd.DataFrame(vectorized_text,columns=cv.get_feature_names_out())\n",
    "#analyze the df_text_idf dataframe to see the most useful n_grams\n",
    "df_text_idf.sum().sort_values(ascending=False).to_csv('tfidf.csv')"
   ]
  },
  {
   "cell_type": "code",
   "execution_count": 93,
   "metadata": {},
   "outputs": [
    {
     "data": {
      "image/png": "[encoded data removed]",
      "text/plain": [
       "<Figure size 1000x600 with 1 Axes>"
      ]
     },
     "metadata": {},
     "output_type": "display_data"
    }
   ],
   "source": [
    "cool_color = '#FF5733'\n",
    "ax = df_text_idf.sum().sort_values(ascending=False).plot(color='#FF5733', alpha=0.7, title='TF-IDF Distribution', figsize=(10, 6))\n",
    "\n",
    "# Removing the x-axis\n",
    "ax.xaxis.set_visible(False)\n",
    "\n",
    "# Display the plot\n",
    "plt.show()"
   ]
  },
  {
   "cell_type": "code",
   "execution_count": 94,
   "metadata": {},
   "outputs": [],
   "source": [
    "top_n_grams = df_text_idf.sum().sort_values(ascending=False).index"
   ]
  },
  {
   "cell_type": "code",
   "execution_count": 95,
   "metadata": {},
   "outputs": [
    {
     "data": {
      "text/html": [
       "<div>\n",
       "<style scoped>\n",
       "    .dataframe tbody tr th:only-of-type {\n",
       "        vertical-align: middle;\n",
       "    }\n",
       "\n",
       "    .dataframe tbody tr th {\n",
       "        vertical-align: top;\n",
       "    }\n",
       "\n",
       "    .dataframe thead th {\n",
       "        text-align: right;\n",
       "    }\n",
       "</style>\n",
       "<table border=\"1\" class=\"dataframe\">\n",
       "  <thead>\n",
       "    <tr style=\"text-align: right;\">\n",
       "      <th></th>\n",
       "      <th>10</th>\n",
       "      <th>10 minuto</th>\n",
       "      <th>10 minuto pie</th>\n",
       "      <th>15</th>\n",
       "      <th>15 minuto</th>\n",
       "      <th>15 minuto pie</th>\n",
       "      <th>20</th>\n",
       "      <th>200</th>\n",
       "      <th>200 metro</th>\n",
       "      <th>24</th>\n",
       "      <th>...</th>\n",
       "      <th>vella barcelona</th>\n",
       "      <th>vista</th>\n",
       "      <th>vistas</th>\n",
       "      <th>vía</th>\n",
       "      <th>vía satélite</th>\n",
       "      <th>wifi</th>\n",
       "      <th>wifi gratis</th>\n",
       "      <th>wifi gratis alojamiento</th>\n",
       "      <th>wifi gratuito</th>\n",
       "      <th>zona</th>\n",
       "    </tr>\n",
       "  </thead>\n",
       "  <tbody>\n",
       "    <tr>\n",
       "      <th>0</th>\n",
       "      <td>0.000000</td>\n",
       "      <td>0.000000</td>\n",
       "      <td>0.000000</td>\n",
       "      <td>2.459498</td>\n",
       "      <td>2.664868</td>\n",
       "      <td>3.022283</td>\n",
       "      <td>0.0</td>\n",
       "      <td>3.007577</td>\n",
       "      <td>3.022283</td>\n",
       "      <td>0.000000</td>\n",
       "      <td>...</td>\n",
       "      <td>0.0</td>\n",
       "      <td>0.0</td>\n",
       "      <td>0.000000</td>\n",
       "      <td>0.000000</td>\n",
       "      <td>0.00000</td>\n",
       "      <td>1.256792</td>\n",
       "      <td>0.000000</td>\n",
       "      <td>0.000000</td>\n",
       "      <td>1.76214</td>\n",
       "      <td>0.000000</td>\n",
       "    </tr>\n",
       "    <tr>\n",
       "      <th>1</th>\n",
       "      <td>0.000000</td>\n",
       "      <td>0.000000</td>\n",
       "      <td>0.000000</td>\n",
       "      <td>0.000000</td>\n",
       "      <td>0.000000</td>\n",
       "      <td>0.000000</td>\n",
       "      <td>0.0</td>\n",
       "      <td>0.000000</td>\n",
       "      <td>0.000000</td>\n",
       "      <td>1.984759</td>\n",
       "      <td>...</td>\n",
       "      <td>0.0</td>\n",
       "      <td>0.0</td>\n",
       "      <td>0.000000</td>\n",
       "      <td>0.000000</td>\n",
       "      <td>0.00000</td>\n",
       "      <td>1.256792</td>\n",
       "      <td>0.000000</td>\n",
       "      <td>0.000000</td>\n",
       "      <td>1.76214</td>\n",
       "      <td>0.000000</td>\n",
       "    </tr>\n",
       "    <tr>\n",
       "      <th>2</th>\n",
       "      <td>2.081119</td>\n",
       "      <td>2.220448</td>\n",
       "      <td>2.386294</td>\n",
       "      <td>0.000000</td>\n",
       "      <td>0.000000</td>\n",
       "      <td>0.000000</td>\n",
       "      <td>0.0</td>\n",
       "      <td>0.000000</td>\n",
       "      <td>0.000000</td>\n",
       "      <td>1.984759</td>\n",
       "      <td>...</td>\n",
       "      <td>0.0</td>\n",
       "      <td>0.0</td>\n",
       "      <td>2.734601</td>\n",
       "      <td>0.000000</td>\n",
       "      <td>0.00000</td>\n",
       "      <td>1.256792</td>\n",
       "      <td>0.000000</td>\n",
       "      <td>0.000000</td>\n",
       "      <td>1.76214</td>\n",
       "      <td>4.337312</td>\n",
       "    </tr>\n",
       "    <tr>\n",
       "      <th>3</th>\n",
       "      <td>0.000000</td>\n",
       "      <td>0.000000</td>\n",
       "      <td>0.000000</td>\n",
       "      <td>4.918996</td>\n",
       "      <td>5.329735</td>\n",
       "      <td>6.044566</td>\n",
       "      <td>0.0</td>\n",
       "      <td>0.000000</td>\n",
       "      <td>0.000000</td>\n",
       "      <td>0.000000</td>\n",
       "      <td>...</td>\n",
       "      <td>0.0</td>\n",
       "      <td>0.0</td>\n",
       "      <td>0.000000</td>\n",
       "      <td>0.000000</td>\n",
       "      <td>0.00000</td>\n",
       "      <td>0.000000</td>\n",
       "      <td>0.000000</td>\n",
       "      <td>0.000000</td>\n",
       "      <td>0.00000</td>\n",
       "      <td>2.168656</td>\n",
       "    </tr>\n",
       "    <tr>\n",
       "      <th>4</th>\n",
       "      <td>2.081119</td>\n",
       "      <td>2.220448</td>\n",
       "      <td>2.386294</td>\n",
       "      <td>4.918996</td>\n",
       "      <td>5.329735</td>\n",
       "      <td>6.044566</td>\n",
       "      <td>0.0</td>\n",
       "      <td>0.000000</td>\n",
       "      <td>0.000000</td>\n",
       "      <td>1.984759</td>\n",
       "      <td>...</td>\n",
       "      <td>0.0</td>\n",
       "      <td>0.0</td>\n",
       "      <td>0.000000</td>\n",
       "      <td>2.162367</td>\n",
       "      <td>2.21053</td>\n",
       "      <td>1.256792</td>\n",
       "      <td>0.000000</td>\n",
       "      <td>0.000000</td>\n",
       "      <td>1.76214</td>\n",
       "      <td>0.000000</td>\n",
       "    </tr>\n",
       "    <tr>\n",
       "      <th>...</th>\n",
       "      <td>...</td>\n",
       "      <td>...</td>\n",
       "      <td>...</td>\n",
       "      <td>...</td>\n",
       "      <td>...</td>\n",
       "      <td>...</td>\n",
       "      <td>...</td>\n",
       "      <td>...</td>\n",
       "      <td>...</td>\n",
       "      <td>...</td>\n",
       "      <td>...</td>\n",
       "      <td>...</td>\n",
       "      <td>...</td>\n",
       "      <td>...</td>\n",
       "      <td>...</td>\n",
       "      <td>...</td>\n",
       "      <td>...</td>\n",
       "      <td>...</td>\n",
       "      <td>...</td>\n",
       "      <td>...</td>\n",
       "      <td>...</td>\n",
       "    </tr>\n",
       "    <tr>\n",
       "      <th>1014</th>\n",
       "      <td>0.000000</td>\n",
       "      <td>0.000000</td>\n",
       "      <td>0.000000</td>\n",
       "      <td>0.000000</td>\n",
       "      <td>0.000000</td>\n",
       "      <td>0.000000</td>\n",
       "      <td>0.0</td>\n",
       "      <td>0.000000</td>\n",
       "      <td>0.000000</td>\n",
       "      <td>0.000000</td>\n",
       "      <td>...</td>\n",
       "      <td>0.0</td>\n",
       "      <td>0.0</td>\n",
       "      <td>0.000000</td>\n",
       "      <td>0.000000</td>\n",
       "      <td>0.00000</td>\n",
       "      <td>1.256792</td>\n",
       "      <td>0.000000</td>\n",
       "      <td>0.000000</td>\n",
       "      <td>1.76214</td>\n",
       "      <td>0.000000</td>\n",
       "    </tr>\n",
       "    <tr>\n",
       "      <th>1015</th>\n",
       "      <td>0.000000</td>\n",
       "      <td>0.000000</td>\n",
       "      <td>0.000000</td>\n",
       "      <td>0.000000</td>\n",
       "      <td>0.000000</td>\n",
       "      <td>0.000000</td>\n",
       "      <td>0.0</td>\n",
       "      <td>0.000000</td>\n",
       "      <td>0.000000</td>\n",
       "      <td>0.000000</td>\n",
       "      <td>...</td>\n",
       "      <td>0.0</td>\n",
       "      <td>0.0</td>\n",
       "      <td>0.000000</td>\n",
       "      <td>0.000000</td>\n",
       "      <td>0.00000</td>\n",
       "      <td>1.256792</td>\n",
       "      <td>2.480821</td>\n",
       "      <td>3.292829</td>\n",
       "      <td>0.00000</td>\n",
       "      <td>2.168656</td>\n",
       "    </tr>\n",
       "    <tr>\n",
       "      <th>1016</th>\n",
       "      <td>2.081119</td>\n",
       "      <td>0.000000</td>\n",
       "      <td>0.000000</td>\n",
       "      <td>0.000000</td>\n",
       "      <td>0.000000</td>\n",
       "      <td>0.000000</td>\n",
       "      <td>0.0</td>\n",
       "      <td>0.000000</td>\n",
       "      <td>0.000000</td>\n",
       "      <td>1.984759</td>\n",
       "      <td>...</td>\n",
       "      <td>0.0</td>\n",
       "      <td>0.0</td>\n",
       "      <td>0.000000</td>\n",
       "      <td>0.000000</td>\n",
       "      <td>0.00000</td>\n",
       "      <td>1.256792</td>\n",
       "      <td>2.480821</td>\n",
       "      <td>3.292829</td>\n",
       "      <td>0.00000</td>\n",
       "      <td>0.000000</td>\n",
       "    </tr>\n",
       "    <tr>\n",
       "      <th>1017</th>\n",
       "      <td>2.081119</td>\n",
       "      <td>2.220448</td>\n",
       "      <td>2.386294</td>\n",
       "      <td>0.000000</td>\n",
       "      <td>0.000000</td>\n",
       "      <td>0.000000</td>\n",
       "      <td>0.0</td>\n",
       "      <td>6.015154</td>\n",
       "      <td>6.044566</td>\n",
       "      <td>1.984759</td>\n",
       "      <td>...</td>\n",
       "      <td>0.0</td>\n",
       "      <td>0.0</td>\n",
       "      <td>0.000000</td>\n",
       "      <td>0.000000</td>\n",
       "      <td>0.00000</td>\n",
       "      <td>0.000000</td>\n",
       "      <td>0.000000</td>\n",
       "      <td>0.000000</td>\n",
       "      <td>0.00000</td>\n",
       "      <td>0.000000</td>\n",
       "    </tr>\n",
       "    <tr>\n",
       "      <th>1018</th>\n",
       "      <td>2.081119</td>\n",
       "      <td>0.000000</td>\n",
       "      <td>0.000000</td>\n",
       "      <td>0.000000</td>\n",
       "      <td>0.000000</td>\n",
       "      <td>0.000000</td>\n",
       "      <td>0.0</td>\n",
       "      <td>0.000000</td>\n",
       "      <td>0.000000</td>\n",
       "      <td>0.000000</td>\n",
       "      <td>...</td>\n",
       "      <td>0.0</td>\n",
       "      <td>0.0</td>\n",
       "      <td>0.000000</td>\n",
       "      <td>0.000000</td>\n",
       "      <td>0.00000</td>\n",
       "      <td>1.256792</td>\n",
       "      <td>2.480821</td>\n",
       "      <td>3.292829</td>\n",
       "      <td>0.00000</td>\n",
       "      <td>0.000000</td>\n",
       "    </tr>\n",
       "  </tbody>\n",
       "</table>\n",
       "<p>1019 rows × 318 columns</p>\n",
       "</div>"
      ],
      "text/plain": [
       "            10  10 minuto  10 minuto pie        15  15 minuto  15 minuto pie  \\\n",
       "0     0.000000   0.000000       0.000000  2.459498   2.664868       3.022283   \n",
       "1     0.000000   0.000000       0.000000  0.000000   0.000000       0.000000   \n",
       "2     2.081119   2.220448       2.386294  0.000000   0.000000       0.000000   \n",
       "3     0.000000   0.000000       0.000000  4.918996   5.329735       6.044566   \n",
       "4     2.081119   2.220448       2.386294  4.918996   5.329735       6.044566   \n",
       "...        ...        ...            ...       ...        ...            ...   \n",
       "1014  0.000000   0.000000       0.000000  0.000000   0.000000       0.000000   \n",
       "1015  0.000000   0.000000       0.000000  0.000000   0.000000       0.000000   \n",
       "1016  2.081119   0.000000       0.000000  0.000000   0.000000       0.000000   \n",
       "1017  2.081119   2.220448       2.386294  0.000000   0.000000       0.000000   \n",
       "1018  2.081119   0.000000       0.000000  0.000000   0.000000       0.000000   \n",
       "\n",
       "       20       200  200 metro        24  ...  vella barcelona  vista  \\\n",
       "0     0.0  3.007577   3.022283  0.000000  ...              0.0    0.0   \n",
       "1     0.0  0.000000   0.000000  1.984759  ...              0.0    0.0   \n",
       "2     0.0  0.000000   0.000000  1.984759  ...              0.0    0.0   \n",
       "3     0.0  0.000000   0.000000  0.000000  ...              0.0    0.0   \n",
       "4     0.0  0.000000   0.000000  1.984759  ...              0.0    0.0   \n",
       "...   ...       ...        ...       ...  ...              ...    ...   \n",
       "1014  0.0  0.000000   0.000000  0.000000  ...              0.0    0.0   \n",
       "1015  0.0  0.000000   0.000000  0.000000  ...              0.0    0.0   \n",
       "1016  0.0  0.000000   0.000000  1.984759  ...              0.0    0.0   \n",
       "1017  0.0  6.015154   6.044566  1.984759  ...              0.0    0.0   \n",
       "1018  0.0  0.000000   0.000000  0.000000  ...              0.0    0.0   \n",
       "\n",
       "        vistas       vía  vía satélite      wifi  wifi gratis  \\\n",
       "0     0.000000  0.000000       0.00000  1.256792     0.000000   \n",
       "1     0.000000  0.000000       0.00000  1.256792     0.000000   \n",
       "2     2.734601  0.000000       0.00000  1.256792     0.000000   \n",
       "3     0.000000  0.000000       0.00000  0.000000     0.000000   \n",
       "4     0.000000  2.162367       2.21053  1.256792     0.000000   \n",
       "...        ...       ...           ...       ...          ...   \n",
       "1014  0.000000  0.000000       0.00000  1.256792     0.000000   \n",
       "1015  0.000000  0.000000       0.00000  1.256792     2.480821   \n",
       "1016  0.000000  0.000000       0.00000  1.256792     2.480821   \n",
       "1017  0.000000  0.000000       0.00000  0.000000     0.000000   \n",
       "1018  0.000000  0.000000       0.00000  1.256792     2.480821   \n",
       "\n",
       "      wifi gratis alojamiento  wifi gratuito      zona  \n",
       "0                    0.000000        1.76214  0.000000  \n",
       "1                    0.000000        1.76214  0.000000  \n",
       "2                    0.000000        1.76214  4.337312  \n",
       "3                    0.000000        0.00000  2.168656  \n",
       "4                    0.000000        1.76214  0.000000  \n",
       "...                       ...            ...       ...  \n",
       "1014                 0.000000        1.76214  0.000000  \n",
       "1015                 3.292829        0.00000  2.168656  \n",
       "1016                 3.292829        0.00000  0.000000  \n",
       "1017                 0.000000        0.00000  0.000000  \n",
       "1018                 3.292829        0.00000  0.000000  \n",
       "\n",
       "[1019 rows x 318 columns]"
      ]
     },
     "execution_count": 95,
     "metadata": {},
     "output_type": "execute_result"
    }
   ],
   "source": [
    "df_text_idf"
   ]
  },
  {
   "cell_type": "markdown",
   "metadata": {},
   "source": [
    "## NLP Analysis: TFIDF Vocab Regressions"
   ]
  },
  {
   "cell_type": "markdown",
   "metadata": {},
   "source": [
    "We decide to try out the different words in regressions on price, to see if they are statistically significant. This is just another thing which we take into account when finalising the features we will use."
   ]
  },
  {
   "cell_type": "code",
   "execution_count": 96,
   "metadata": {},
   "outputs": [],
   "source": [
    "df = df.reset_index()"
   ]
  },
  {
   "cell_type": "code",
   "execution_count": 97,
   "metadata": {},
   "outputs": [],
   "source": [
    "# run each of the top ngrams through a regression model and get the p-value\n",
    "\n",
    "all_n_gram_p_vals = []\n",
    "\n",
    "for ngram in top_n_grams:\n",
    "    n_gram_stats = {}\n",
    "\n",
    "    all_x_cols = ['city', 'eventweek', 'cityxevt']\n",
    "\n",
    "    X = pd.concat([df[all_x_cols], df_text_idf[ngram]], axis=1)\n",
    "\n",
    "    y = df['price']\n",
    "\n",
    "    X_b = sm.add_constant(X)\n",
    "\n",
    "    # Create and fit the OLS (Ordinary Least Squares) model\n",
    "    model = sm.OLS(y, X_b)\n",
    "    results = model.fit()\n",
    "\n",
    "    # Print regression results summary\n",
    "    # Extract the feature names and t-statistics\n",
    "    summary = results.summary()\n",
    "    n_gram_stats['coeff'] = float(summary.tables[1].data[:][5][1])\n",
    "    n_gram_stats['p-val'] = summary.tables[1].data[:][5][4]\n",
    "    n_gram_stats['ngram'] = ngram\n",
    "\n",
    "    all_n_gram_p_vals.append(n_gram_stats)\n",
    "\n",
    "all_n_gram_p_vals = pd.DataFrame(all_n_gram_p_vals)\n",
    "all_n_gram_p_vals = all_n_gram_p_vals.sort_values(by=['p-val', 'coeff'], ascending=[True, False])"
   ]
  },
  {
   "cell_type": "code",
   "execution_count": 98,
   "metadata": {},
   "outputs": [],
   "source": [
    "# view top ngrams with their coeff and p-val for analysis\n",
    "\n",
    "all_n_gram_p_vals.head(20)\n",
    "all_n_gram_p_vals.to_csv('ngram_p_vals.csv')"
   ]
  },
  {
   "cell_type": "code",
   "execution_count": 99,
   "metadata": {},
   "outputs": [
    {
     "data": {
      "text/html": [
       "<div>\n",
       "<style scoped>\n",
       "    .dataframe tbody tr th:only-of-type {\n",
       "        vertical-align: middle;\n",
       "    }\n",
       "\n",
       "    .dataframe tbody tr th {\n",
       "        vertical-align: top;\n",
       "    }\n",
       "\n",
       "    .dataframe thead th {\n",
       "        text-align: right;\n",
       "    }\n",
       "</style>\n",
       "<table border=\"1\" class=\"dataframe\">\n",
       "  <thead>\n",
       "    <tr style=\"text-align: right;\">\n",
       "      <th></th>\n",
       "      <th>coeff</th>\n",
       "      <th>p-val</th>\n",
       "      <th>ngram</th>\n",
       "    </tr>\n",
       "  </thead>\n",
       "  <tbody>\n",
       "    <tr>\n",
       "      <th>28</th>\n",
       "      <td>-23.7091</td>\n",
       "      <td>0.000</td>\n",
       "      <td>wifi</td>\n",
       "    </tr>\n",
       "    <tr>\n",
       "      <th>30</th>\n",
       "      <td>-24.5404</td>\n",
       "      <td>0.000</td>\n",
       "      <td>aire acondicionado</td>\n",
       "    </tr>\n",
       "    <tr>\n",
       "      <th>31</th>\n",
       "      <td>-24.5404</td>\n",
       "      <td>0.000</td>\n",
       "      <td>acondicionado</td>\n",
       "    </tr>\n",
       "    <tr>\n",
       "      <th>229</th>\n",
       "      <td>-12.5242</td>\n",
       "      <td>0.001</td>\n",
       "      <td>estándar</td>\n",
       "    </tr>\n",
       "    <tr>\n",
       "      <th>17</th>\n",
       "      <td>-12.8895</td>\n",
       "      <td>0.001</td>\n",
       "      <td>estación</td>\n",
       "    </tr>\n",
       "    <tr>\n",
       "      <th>...</th>\n",
       "      <td>...</td>\n",
       "      <td>...</td>\n",
       "      <td>...</td>\n",
       "    </tr>\n",
       "    <tr>\n",
       "      <th>39</th>\n",
       "      <td>0.0876</td>\n",
       "      <td>0.986</td>\n",
       "      <td>pantalla</td>\n",
       "    </tr>\n",
       "    <tr>\n",
       "      <th>114</th>\n",
       "      <td>-0.0477</td>\n",
       "      <td>0.990</td>\n",
       "      <td>ducha</td>\n",
       "    </tr>\n",
       "    <tr>\n",
       "      <th>99</th>\n",
       "      <td>0.0232</td>\n",
       "      <td>0.995</td>\n",
       "      <td>artículo</td>\n",
       "    </tr>\n",
       "    <tr>\n",
       "      <th>106</th>\n",
       "      <td>-0.0221</td>\n",
       "      <td>0.995</td>\n",
       "      <td>artículo aseo</td>\n",
       "    </tr>\n",
       "    <tr>\n",
       "      <th>82</th>\n",
       "      <td>0.0075</td>\n",
       "      <td>0.998</td>\n",
       "      <td>piscina</td>\n",
       "    </tr>\n",
       "  </tbody>\n",
       "</table>\n",
       "<p>318 rows × 3 columns</p>\n",
       "</div>"
      ],
      "text/plain": [
       "       coeff   p-val               ngram\n",
       "28  -23.7091   0.000                wifi\n",
       "30  -24.5404   0.000  aire acondicionado\n",
       "31  -24.5404   0.000       acondicionado\n",
       "229 -12.5242   0.001            estándar\n",
       "17  -12.8895   0.001            estación\n",
       "..       ...     ...                 ...\n",
       "39    0.0876   0.986            pantalla\n",
       "114  -0.0477   0.990               ducha\n",
       "99    0.0232   0.995            artículo\n",
       "106  -0.0221   0.995       artículo aseo\n",
       "82    0.0075   0.998             piscina\n",
       "\n",
       "[318 rows x 3 columns]"
      ]
     },
     "execution_count": 99,
     "metadata": {},
     "output_type": "execute_result"
    }
   ],
   "source": [
    "all_n_gram_p_vals"
   ]
  },
  {
   "cell_type": "code",
   "execution_count": 100,
   "metadata": {},
   "outputs": [
    {
     "data": {
      "text/html": [
       "<div>\n",
       "<style scoped>\n",
       "    .dataframe tbody tr th:only-of-type {\n",
       "        vertical-align: middle;\n",
       "    }\n",
       "\n",
       "    .dataframe tbody tr th {\n",
       "        vertical-align: top;\n",
       "    }\n",
       "\n",
       "    .dataframe thead th {\n",
       "        text-align: right;\n",
       "    }\n",
       "</style>\n",
       "<table border=\"1\" class=\"dataframe\">\n",
       "  <thead>\n",
       "    <tr style=\"text-align: right;\">\n",
       "      <th></th>\n",
       "      <th>level_0</th>\n",
       "      <th>index</th>\n",
       "      <th>name</th>\n",
       "      <th>central_distance</th>\n",
       "      <th>rating</th>\n",
       "      <th>review_count</th>\n",
       "      <th>room_description</th>\n",
       "      <th>room_specifics</th>\n",
       "      <th>price</th>\n",
       "      <th>neighborhood_city</th>\n",
       "      <th>...</th>\n",
       "      <th>latlong</th>\n",
       "      <th>distance_evt_km</th>\n",
       "      <th>cityxevt</th>\n",
       "      <th>distance_cityevt_interaction</th>\n",
       "      <th>all_text</th>\n",
       "      <th>processed_corpus</th>\n",
       "      <th>wifi</th>\n",
       "      <th>aire acondicionado</th>\n",
       "      <th>recepción</th>\n",
       "      <th>metro</th>\n",
       "    </tr>\n",
       "  </thead>\n",
       "  <tbody>\n",
       "    <tr>\n",
       "      <th>0</th>\n",
       "      <td>0</td>\n",
       "      <td>0</td>\n",
       "      <td>room mate carla</td>\n",
       "      <td>1.1</td>\n",
       "      <td>8.6</td>\n",
       "      <td>2659.0</td>\n",
       "      <td>Habitación Doble Básica</td>\n",
       "      <td>1 cama doble</td>\n",
       "      <td>248.125</td>\n",
       "      <td>Eixample, Barcelona</td>\n",
       "      <td>...</td>\n",
       "      <td>(41.3963185, 2.16604203)</td>\n",
       "      <td>5.162747</td>\n",
       "      <td>1.0</td>\n",
       "      <td>5.162747</td>\n",
       "      <td>room mate carla Habitación Doble Básica Eixamp...</td>\n",
       "      <td>room mate car habitación doble básica eixample...</td>\n",
       "      <td>1.0</td>\n",
       "      <td>1.296875</td>\n",
       "      <td>0.0</td>\n",
       "      <td>1.0</td>\n",
       "    </tr>\n",
       "    <tr>\n",
       "      <th>1</th>\n",
       "      <td>1</td>\n",
       "      <td>1</td>\n",
       "      <td>ac hotel diagonal l'illa by marriott</td>\n",
       "      <td>2.9</td>\n",
       "      <td>8.6</td>\n",
       "      <td>489.0</td>\n",
       "      <td>Habitación Estándar - Cama extragrande</td>\n",
       "      <td>1 cama doble extragrande</td>\n",
       "      <td>277.375</td>\n",
       "      <td>Les Corts, Barcelona</td>\n",
       "      <td>...</td>\n",
       "      <td>(41.38995401, 2.13584371)</td>\n",
       "      <td>7.781756</td>\n",
       "      <td>1.0</td>\n",
       "      <td>7.781756</td>\n",
       "      <td>ac hotel diagonal l'illa by marriott Habitació...</td>\n",
       "      <td>ac hotel diagonal l illa by marriott habitació...</td>\n",
       "      <td>1.0</td>\n",
       "      <td>0.000000</td>\n",
       "      <td>1.0</td>\n",
       "      <td>0.0</td>\n",
       "    </tr>\n",
       "    <tr>\n",
       "      <th>2</th>\n",
       "      <td>2</td>\n",
       "      <td>2</td>\n",
       "      <td>two hotel barcelona by axel 4* sup- adults only</td>\n",
       "      <td>1.5</td>\n",
       "      <td>8.4</td>\n",
       "      <td>2540.0</td>\n",
       "      <td>Habitación Doble - 1 o 2 camas</td>\n",
       "      <td>1 cama doble grande</td>\n",
       "      <td>234.000</td>\n",
       "      <td>Eixample, Barcelona</td>\n",
       "      <td>...</td>\n",
       "      <td>(41.3791458, 2.1559318)</td>\n",
       "      <td>6.764915</td>\n",
       "      <td>1.0</td>\n",
       "      <td>6.764915</td>\n",
       "      <td>two hotel barcelona by axel 4* sup- adults onl...</td>\n",
       "      <td>two hotel barcelona by axel 4 sup adults only ...</td>\n",
       "      <td>1.0</td>\n",
       "      <td>1.296875</td>\n",
       "      <td>1.0</td>\n",
       "      <td>1.0</td>\n",
       "    </tr>\n",
       "    <tr>\n",
       "      <th>3</th>\n",
       "      <td>3</td>\n",
       "      <td>3</td>\n",
       "      <td>hotel &amp; spa villa olimpica suites</td>\n",
       "      <td>2.2</td>\n",
       "      <td>8.0</td>\n",
       "      <td>3424.0</td>\n",
       "      <td>Habitación Doble con acceso al spa</td>\n",
       "      <td>2 camas individuales</td>\n",
       "      <td>211.250</td>\n",
       "      <td>Sant Martí, Barcelona</td>\n",
       "      <td>...</td>\n",
       "      <td>(41.39712533, 2.19205141)</td>\n",
       "      <td>3.145190</td>\n",
       "      <td>1.0</td>\n",
       "      <td>3.145190</td>\n",
       "      <td>hotel &amp; spa villa olimpica suites Habitación D...</td>\n",
       "      <td>hotel spa villa olimpico suite habitación dobl...</td>\n",
       "      <td>0.0</td>\n",
       "      <td>1.296875</td>\n",
       "      <td>0.0</td>\n",
       "      <td>1.0</td>\n",
       "    </tr>\n",
       "    <tr>\n",
       "      <th>4</th>\n",
       "      <td>4</td>\n",
       "      <td>4</td>\n",
       "      <td>zenit barcelona</td>\n",
       "      <td>2.1</td>\n",
       "      <td>8.2</td>\n",
       "      <td>1480.0</td>\n",
       "      <td>Habitación Doble - 1 o 2 camas</td>\n",
       "      <td>Camas: 1 doble o 2 individuales</td>\n",
       "      <td>211.125</td>\n",
       "      <td>Sarrià-Sant Gervasi, Barcelona</td>\n",
       "      <td>...</td>\n",
       "      <td>(41.3949201, 2.146824)</td>\n",
       "      <td>6.741776</td>\n",
       "      <td>1.0</td>\n",
       "      <td>6.741776</td>\n",
       "      <td>zenit barcelona Habitación Doble - 1 o 2 camas...</td>\n",
       "      <td>zenit barcelona habitación doble 1 2 cama sarr...</td>\n",
       "      <td>1.0</td>\n",
       "      <td>1.296875</td>\n",
       "      <td>1.0</td>\n",
       "      <td>1.0</td>\n",
       "    </tr>\n",
       "  </tbody>\n",
       "</table>\n",
       "<p>5 rows × 34 columns</p>\n",
       "</div>"
      ],
      "text/plain": [
       "   level_0  index                                             name  \\\n",
       "0        0      0                                  room mate carla   \n",
       "1        1      1             ac hotel diagonal l'illa by marriott   \n",
       "2        2      2  two hotel barcelona by axel 4* sup- adults only   \n",
       "3        3      3                hotel & spa villa olimpica suites   \n",
       "4        4      4                                  zenit barcelona   \n",
       "\n",
       "   central_distance  rating  review_count  \\\n",
       "0               1.1     8.6        2659.0   \n",
       "1               2.9     8.6         489.0   \n",
       "2               1.5     8.4        2540.0   \n",
       "3               2.2     8.0        3424.0   \n",
       "4               2.1     8.2        1480.0   \n",
       "\n",
       "                         room_description                   room_specifics  \\\n",
       "0                 Habitación Doble Básica                     1 cama doble   \n",
       "1  Habitación Estándar - Cama extragrande         1 cama doble extragrande   \n",
       "2          Habitación Doble - 1 o 2 camas              1 cama doble grande   \n",
       "3      Habitación Doble con acceso al spa             2 camas individuales   \n",
       "4          Habitación Doble - 1 o 2 camas  Camas: 1 doble o 2 individuales   \n",
       "\n",
       "     price               neighborhood_city  ...                    latlong  \\\n",
       "0  248.125             Eixample, Barcelona  ...   (41.3963185, 2.16604203)   \n",
       "1  277.375            Les Corts, Barcelona  ...  (41.38995401, 2.13584371)   \n",
       "2  234.000             Eixample, Barcelona  ...    (41.3791458, 2.1559318)   \n",
       "3  211.250           Sant Martí, Barcelona  ...  (41.39712533, 2.19205141)   \n",
       "4  211.125  Sarrià-Sant Gervasi, Barcelona  ...     (41.3949201, 2.146824)   \n",
       "\n",
       "  distance_evt_km  cityxevt  distance_cityevt_interaction  \\\n",
       "0        5.162747       1.0                      5.162747   \n",
       "1        7.781756       1.0                      7.781756   \n",
       "2        6.764915       1.0                      6.764915   \n",
       "3        3.145190       1.0                      3.145190   \n",
       "4        6.741776       1.0                      6.741776   \n",
       "\n",
       "                                            all_text  \\\n",
       "0  room mate carla Habitación Doble Básica Eixamp...   \n",
       "1  ac hotel diagonal l'illa by marriott Habitació...   \n",
       "2  two hotel barcelona by axel 4* sup- adults onl...   \n",
       "3  hotel & spa villa olimpica suites Habitación D...   \n",
       "4  zenit barcelona Habitación Doble - 1 o 2 camas...   \n",
       "\n",
       "                                    processed_corpus  wifi  \\\n",
       "0  room mate car habitación doble básica eixample...   1.0   \n",
       "1  ac hotel diagonal l illa by marriott habitació...   1.0   \n",
       "2  two hotel barcelona by axel 4 sup adults only ...   1.0   \n",
       "3  hotel spa villa olimpico suite habitación dobl...   0.0   \n",
       "4  zenit barcelona habitación doble 1 2 cama sarr...   1.0   \n",
       "\n",
       "   aire acondicionado  recepción  metro  \n",
       "0            1.296875        0.0    1.0  \n",
       "1            0.000000        1.0    0.0  \n",
       "2            1.296875        1.0    1.0  \n",
       "3            1.296875        0.0    1.0  \n",
       "4            1.296875        1.0    1.0  \n",
       "\n",
       "[5 rows x 34 columns]"
      ]
     },
     "execution_count": 100,
     "metadata": {},
     "output_type": "execute_result"
    }
   ],
   "source": [
    "# turn tfidf selected features into dummies\n",
    "\n",
    "df = pd.concat([df, df_text_idf[['wifi','aire acondicionado','recepción','metro']]], axis=1)\n",
    "df.loc[df['wifi'] > 0, 'wifi'] = 1\n",
    "df.loc[df['recepción'] > 0, 'recepción'] = 1\n",
    "df.loc[df['aire acondicionado'] > 0, 'aire acondicionado'] = 1\n",
    "df.loc[df['metro'] > 0, 'metro'] = 1\n",
    "df.head()"
   ]
  },
  {
   "cell_type": "code",
   "execution_count": 104,
   "metadata": {},
   "outputs": [],
   "source": [
    "# rename columns to be formatted correctly\n",
    "df = df.rename(columns={'aire acondicionado': 'aire_acondicionado'})"
   ]
  },
  {
   "cell_type": "code",
   "execution_count": 105,
   "metadata": {},
   "outputs": [
    {
     "name": "stdout",
     "output_type": "stream",
     "text": [
      "recepción\n",
      "0.0    620\n",
      "1.0    399\n",
      "Name: count, dtype: int64\n",
      "wifi\n",
      "1.0    788\n",
      "0.0    231\n",
      "Name: count, dtype: int64\n",
      "aire_acondicionado\n",
      "1.0    757\n",
      "0.0    262\n",
      "Name: count, dtype: int64\n",
      "metro\n",
      "1.0    677\n",
      "0.0    342\n",
      "Name: count, dtype: int64\n"
     ]
    }
   ],
   "source": [
    "# view dummies\n",
    "print(df.recepción.value_counts())\n",
    "print(df['wifi'].value_counts())\n",
    "print(df['aire_acondicionado'].value_counts())\n",
    "print(df.metro.value_counts())\n"
   ]
  },
  {
   "cell_type": "markdown",
   "metadata": {},
   "source": [
    "## NLP Analysis: Sentiment Scores"
   ]
  },
  {
   "cell_type": "markdown",
   "metadata": {},
   "source": [
    "We also try sentiment scoring, however since hotel descriptions are almost always going to be positive, while still in a professional tone, we don't expect the scores to be a good indicator for differences in hotels."
   ]
  },
  {
   "cell_type": "code",
   "execution_count": 106,
   "metadata": {},
   "outputs": [
    {
     "name": "stdout",
     "output_type": "stream",
     "text": [
      "Most Positive Article:\n",
      "Score: 0.010752688172043012\n",
      "Text: pensión alicante Habitación Estándar con baño compartido - 2 camas Ciutat Vella, Valencia 2 camas individuales \n",
      "\n",
      "\n",
      "\n",
      "\n",
      "¡Puedes conseguir un descuento Genius en Pensión Alicante! Para ahorrar en este alojamiento, solo tienes que iniciar sesión.\n",
      "Pensión Alicante is located in central Valencia, just 3 minutes’ walk from Esctació del Nord Station. It offers rooms with free WiFi, a TV and a shower in the room.\n",
      "\n",
      "Pensión Alicante does not have a physical reception, all the doors of the guesthouse are opened with electronic keys through the mobile application called \"Danalock\". A few days before your arrival you will receive a link and detailed instructions for online check-in and door access. Staff can provide information about what to see and do in Valencia.\n",
      "\n",
      "The guest house is 10 minutes’ walk from the Lonja de la Seda, Valencia’s medieval market and now a UNESCO World Heritage Site. Xàtiva Metro Station is 3 minutes’ walk away, connecting you with the rest of the city with ease.\n",
      "\n",
      "\n",
      "\n",
      "\n",
      "A las parejas les encanta la ubicación — Le han puesto un 9,7 para viajes de dos personas.\n",
      "\n",
      "\n",
      "\n",
      "Las distancias en la descripción del alojamiento se calculan con OpenStreetMap©\n",
      "\n",
      "Ver más\n",
      "\n",
      "\n",
      "\n",
      "\n",
      "\n",
      "\n",
      "Most Negative Article:\n",
      "Score: -0.005330490405117271\n",
      "Text: forget me not barcelona Habitación Doble con vistas a la calle - 1 o 2 camas Eixample, Barcelona Varios tipos de camas \n",
      "\n",
      "\n",
      "\n",
      "\n",
      "¡Puedes conseguir un descuento Genius en Forget Me Not Barcelona! Para ahorrar en este alojamiento, solo tienes que iniciar sesión.\n",
      "El Forget Me Not Barcelona ofrece alojamiento en Barcelona, a 400 metros de La Pedrera, con conexión WiFi gratuita en todas las instalaciones. También alberga un bar.\n",
      "\n",
      "Las habitaciones están equipadas con TV de pantalla plana, hervidor y baño privado. Además, incluyen artículos de aseo gratuitos y secador de pelo.\n",
      "\n",
      "El establecimiento cuenta con un salón compartido.\n",
      "\n",
      "El Forget Me Not Barcelona está a 1,3 km de la plaza de Cataluña y a 1,5 km de Portal de l'Angel. El aeropuerto más cercano es el de El Prat, a 13 km del Forget Me Not Barcelona.\n",
      "\n",
      "\n",
      "\n",
      "\n",
      "A las parejas les encanta la ubicación — Le han puesto un 9,4 para viajes de dos personas.\n",
      "\n",
      "\n",
      "\n",
      "Las distancias en la descripción del alojamiento se calculan con OpenStreetMap©\n",
      "\n",
      "Ver más\n",
      "\n",
      "\n",
      "\n",
      "\n"
     ]
    }
   ],
   "source": [
    "# Initialize HIV4\n",
    "hiv4 = ps.HIV4()\n",
    "\n",
    "# Function to get sentiment scores\n",
    "def get_sentiment_scores(text):\n",
    "    tokens = hiv4.tokenize(text)\n",
    "    score = hiv4.get_score(tokens)\n",
    "    return score\n",
    "\n",
    "\n",
    "df['text_preproc'] = no_punctuation_corpus\n",
    "df['sentiment_scores'] =df['all_text'].apply(get_sentiment_scores)\n",
    "\n",
    "# Extract individual scores and create new columns\n",
    "df['Positive'] = df['sentiment_scores'].apply(lambda x: x['Positive'])\n",
    "df['Negative'] = df['sentiment_scores'].apply(lambda x: x['Negative'])\n",
    "df['Polarity'] = df['sentiment_scores'].apply(lambda x: x['Polarity'])\n",
    "df['Subjectivity'] = df['sentiment_scores'].apply(lambda x: x['Subjectivity'])\n",
    "\n",
    "# Add text length\n",
    "df['TextLength'] = df['text_preproc'].apply(len)\n",
    "\n",
    "# Calculate the score for each article\n",
    "df['SentimentScore'] = ((df['Positive'] - df['Negative']) / df['TextLength'])\n",
    "\n",
    "# Find the article with the highest score\n",
    "most_positive_article = df.loc[df['SentimentScore'].idxmax()]\n",
    "\n",
    "# Find the article with the lowest score\n",
    "most_negative_article = df.loc[df['SentimentScore'].idxmin()]\n",
    "\n",
    "# Print the most positive article\n",
    "print(\"Most Positive Article:\")\n",
    "print(\"Score:\", most_positive_article['SentimentScore'])\n",
    "print(\"Text:\", most_positive_article['all_text'])\n",
    "print(\"\\n\")\n",
    "\n",
    "# Print the most negative article\n",
    "print(\"Most Negative Article:\")\n",
    "print(\"Score:\", most_negative_article['SentimentScore'])\n",
    "print(\"Text:\", most_negative_article['all_text'])\n",
    "\n"
   ]
  },
  {
   "cell_type": "markdown",
   "metadata": {},
   "source": [
    "there does not seem to be much variation in the documents, but we can try a regression with it anyways"
   ]
  },
  {
   "cell_type": "markdown",
   "metadata": {},
   "source": [
    "## NLP Analysis: Regression with Sentiment Scoring"
   ]
  },
  {
   "cell_type": "code",
   "execution_count": 107,
   "metadata": {},
   "outputs": [
    {
     "name": "stdout",
     "output_type": "stream",
     "text": [
      "                            OLS Regression Results                            \n",
      "==============================================================================\n",
      "Dep. Variable:                  price   R-squared:                       0.086\n",
      "Model:                            OLS   Adj. R-squared:                  0.082\n",
      "Method:                 Least Squares   F-statistic:                     23.71\n",
      "Date:                Mon, 05 Feb 2024   Prob (F-statistic):           9.07e-19\n",
      "Time:                        08:49:11   Log-Likelihood:                -6353.8\n",
      "No. Observations:                1019   AIC:                         1.272e+04\n",
      "Df Residuals:                    1014   BIC:                         1.274e+04\n",
      "Df Model:                           4                                         \n",
      "Covariance Type:            nonrobust                                         \n",
      "==================================================================================\n",
      "                     coef    std err          t      P>|t|      [0.025      0.975]\n",
      "----------------------------------------------------------------------------------\n",
      "const            175.5113     11.881     14.773      0.000     152.198     198.825\n",
      "city              60.6437     13.017      4.659      0.000      35.101      86.186\n",
      "eventweek         18.3899     15.792      1.165      0.244     -12.598      49.378\n",
      "cityxevt          25.6333     18.130      1.414      0.158      -9.944      61.211\n",
      "SentimentScore  8045.8766   2026.809      3.970      0.000    4068.656     1.2e+04\n",
      "==============================================================================\n",
      "Omnibus:                      999.070   Durbin-Watson:                   1.539\n",
      "Prob(Omnibus):                  0.000   Jarque-Bera (JB):            66913.083\n",
      "Skew:                           4.405   Prob(JB):                         0.00\n",
      "Kurtosis:                      41.708   Cond. No.                         767.\n",
      "==============================================================================\n",
      "\n",
      "Notes:\n",
      "[1] Standard Errors assume that the covariance matrix of the errors is correctly specified.\n"
     ]
    }
   ],
   "source": [
    "\n",
    "# Generate some sample data\n",
    "np.random.seed(42)\n",
    "\n",
    "X = df[['city', 'eventweek', 'cityxevt', 'SentimentScore']]\n",
    "\n",
    "y = df['price']\n",
    "\n",
    "X_b = sm.add_constant(X)\n",
    "\n",
    "# Create and fit the OLS (Ordinary Least Squares) model\n",
    "model = sm.OLS(y, X_b)\n",
    "results = model.fit()\n",
    "\n",
    "# Print regression results summary\n",
    "print(results.summary())"
   ]
  },
  {
   "cell_type": "markdown",
   "metadata": {},
   "source": [
    "somewhat significant, lets add in the other variables"
   ]
  },
  {
   "cell_type": "markdown",
   "metadata": {},
   "source": [
    "## NLP Analysis: Full Regression with Sentiment"
   ]
  },
  {
   "cell_type": "code",
   "execution_count": 109,
   "metadata": {},
   "outputs": [
    {
     "name": "stdout",
     "output_type": "stream",
     "text": [
      "                            OLS Regression Results                            \n",
      "==============================================================================\n",
      "Dep. Variable:                  price   R-squared:                       0.257\n",
      "Model:                            OLS   Adj. R-squared:                  0.249\n",
      "Method:                 Least Squares   F-statistic:                     31.74\n",
      "Date:                Mon, 05 Feb 2024   Prob (F-statistic):           5.33e-58\n",
      "Time:                        08:49:30   Log-Likelihood:                -6247.7\n",
      "No. Observations:                1019   AIC:                         1.252e+04\n",
      "Df Residuals:                    1007   BIC:                         1.258e+04\n",
      "Df Model:                          11                                         \n",
      "Covariance Type:            nonrobust                                         \n",
      "=========================================================================================================\n",
      "                                            coef    std err          t      P>|t|      [0.025      0.975]\n",
      "---------------------------------------------------------------------------------------------------------\n",
      "const                                  -299.1456     57.913     -5.165      0.000    -412.790    -185.501\n",
      "city                                     60.2203     12.272      4.907      0.000      36.139      84.301\n",
      "eventweek                                14.0469     14.339      0.980      0.328     -14.091      42.185\n",
      "cityxevt                                 29.6882     16.458      1.804      0.072      -2.608      61.984\n",
      "is_major_brand                           -4.3224      9.362     -0.462      0.644     -22.694      14.049\n",
      "wifi                                    -30.9312      8.650     -3.576      0.000     -47.905     -13.958\n",
      "aire_acondicionado                      -27.0872      8.250     -3.283      0.001     -43.277     -10.897\n",
      "recepción                               -12.9854      7.335     -1.770      0.077     -27.378       1.408\n",
      "metro                                   -16.2537      8.024     -2.026      0.043     -31.998      -0.509\n",
      "room_rating_personal                    -11.9462     10.700     -1.116      0.265     -32.944       9.052\n",
      "room_rating_instalaciones y servicios    70.8924     22.849      3.103      0.002      26.056     115.729\n",
      "rating                                    8.1541     26.445      0.308      0.758     -43.740      60.048\n",
      "==============================================================================\n",
      "Omnibus:                     1050.547   Durbin-Watson:                   1.638\n",
      "Prob(Omnibus):                  0.000   Jarque-Bera (JB):            91181.651\n",
      "Skew:                           4.694   Prob(JB):                         0.00\n",
      "Kurtosis:                      48.381   Cond. No.                         247.\n",
      "==============================================================================\n",
      "\n",
      "Notes:\n",
      "[1] Standard Errors assume that the covariance matrix of the errors is correctly specified.\n"
     ]
    }
   ],
   "source": [
    "\n",
    "# Generate some sample data\n",
    "np.random.seed(42)\n",
    "\n",
    "X = df[['city', 'eventweek', 'cityxevt', 'is_major_brand', 'wifi','aire_acondicionado','recepción','metro', 'room_rating_personal', 'room_rating_instalaciones y servicios', 'rating']]\n",
    "\n",
    "y = df['price']\n",
    "\n",
    "X_b = sm.add_constant(X)\n",
    "\n",
    "# Create and fit the OLS (Ordinary Least Squares) model\n",
    "model = sm.OLS(y, X_b)\n",
    "results = model.fit()\n",
    "\n",
    "# Print regression results summary\n",
    "print(results.summary())"
   ]
  },
  {
   "cell_type": "markdown",
   "metadata": {},
   "source": [
    "## Summary outputs and formatted tables for LaTex"
   ]
  },
  {
   "cell_type": "code",
   "execution_count": 110,
   "metadata": {},
   "outputs": [
    {
     "name": "stdout",
     "output_type": "stream",
     "text": [
      "[134, 566, 566, 322, 589]\n",
      "[183, 788, 757, 399, 677]\n"
     ]
    }
   ],
   "source": [
    "# summary value counts\n",
    "\n",
    "nlp_features = ['is_major_brand', 'wifi','aire_acondicionado','recepción','metro']\n",
    "\n",
    "desc = df[nlp_features].describe().round(2).astype(str)\n",
    "\n",
    "\n",
    "counts_city_feature_one = []\n",
    "\n",
    "for i in nlp_features:\n",
    "    count = df[df['city'] == 1].groupby('city')[i].value_counts().get((1.0, 1.0), 0)\n",
    "    counts_city_feature_one.append(count)\n",
    "\n",
    "print(counts_city_feature_one)\n",
    "\n",
    "value_counts_ones = []\n",
    "\n",
    "for i in nlp_features:\n",
    "    count_ones = (df[i] == 1).sum()\n",
    "    value_counts_ones.append(count_ones)\n",
    "\n",
    "print(value_counts_ones)"
   ]
  },
  {
   "cell_type": "code",
   "execution_count": 111,
   "metadata": {},
   "outputs": [
    {
     "data": {
      "text/plain": [
       "city  eventweek\n",
       "0.0   0.0          190.595041\n",
       "      1.0          209.389000\n",
       "1.0   0.0          244.247093\n",
       "      1.0          288.319301\n",
       "Name: price, dtype: float64"
      ]
     },
     "execution_count": 111,
     "metadata": {},
     "output_type": "execute_result"
    }
   ],
   "source": [
    "df.groupby(['city','eventweek'])['price'].mean()"
   ]
  },
  {
   "cell_type": "code",
   "execution_count": 112,
   "metadata": {},
   "outputs": [
    {
     "name": "stdout",
     "output_type": "stream",
     "text": [
      "Mean Prices when feature is 0: ['247.51', '284.95', '277.87', '256.72', '245.96']\n",
      "Mean Prices when feature is 1: ['263.03', '240.14', '240.75', '240.3', '252.49']\n"
     ]
    }
   ],
   "source": [
    "# mean prices when feature is 0 and 1\n",
    "\n",
    "mean_prices_zero = []\n",
    "mean_prices_one = []\n",
    "\n",
    "for i in nlp_features:\n",
    "    grouped_mean = df.groupby(i)['price'].mean()\n",
    "    mean_prices_zero.append(grouped_mean.get(0, 0).round(2).astype(str))\n",
    "    mean_prices_one.append(grouped_mean.get(1, 0).round(2).astype(str))\n",
    "\n",
    "print(\"Mean Prices when feature is 0:\", mean_prices_zero)\n",
    "print(\"Mean Prices when feature is 1:\", mean_prices_one)\n"
   ]
  },
  {
   "cell_type": "code",
   "execution_count": 113,
   "metadata": {},
   "outputs": [
    {
     "name": "stdout",
     "output_type": "stream",
     "text": [
      "\\begin{tabular}{lllrrll}\n",
      "\\toprule\n",
      " & count & mean & value_count_ones & value_count_Bcn & mean_price_0 & mean_price_1 \\\\\n",
      "\\midrule\n",
      "is_major_brand & 1019.0 & 0.18 & 183 & 134 & 247.51 & 263.03 \\\\\n",
      "wifi & 1019.0 & 0.77 & 788 & 566 & 284.95 & 240.14 \\\\\n",
      "aire_acondicionado & 1019.0 & 0.74 & 757 & 566 & 277.87 & 240.75 \\\\\n",
      "recepción & 1019.0 & 0.39 & 399 & 322 & 256.72 & 240.3 \\\\\n",
      "metro & 1019.0 & 0.66 & 677 & 589 & 245.96 & 252.49 \\\\\n",
      "\\bottomrule\n",
      "\\end{tabular}\n",
      "\n"
     ]
    }
   ],
   "source": [
    "# create summary table\n",
    "desc = desc.transpose()\n",
    "desc['value_count_ones'] = value_counts_ones\n",
    "desc['value_count_Bcn'] = counts_city_feature_one\n",
    "desc['mean_price_0'] = mean_prices_zero\n",
    "desc['mean_price_1'] = mean_prices_one\n",
    "desc = desc.drop(columns=['std', 'min', '25%', '50%', '75%', 'max'])\n",
    "print(desc.to_latex())"
   ]
  },
  {
   "cell_type": "code",
   "execution_count": 116,
   "metadata": {},
   "outputs": [
    {
     "name": "stdout",
     "output_type": "stream",
     "text": [
      "\\begin{table}[!htbp] \\centering\n",
      "\\begin{tabular}{@{\\extracolsep{5pt}}lc}\n",
      "\\\\[-1.8ex]\\hline\n",
      "\\hline \\\\[-1.8ex]\n",
      "& \\multicolumn{1}{c}{\\textit{Dependent variable: price}} \\\n",
      "\\cr \\cline{2-2}\n",
      "\\\\[-1.8ex] & (1) \\\\\n",
      "\\hline \\\\[-1.8ex]\n",
      " city & 53.652$^{***}$ \\\\\n",
      "& (12.990) \\\\\n",
      " cityxevt & 25.278$^{}$ \\\\\n",
      "& (18.262) \\\\\n",
      " const & 190.595$^{***}$ \\\\\n",
      "& (11.338) \\\\\n",
      " eventweek & 18.794$^{}$ \\\\\n",
      "& (15.906) \\\\\n",
      "\\hline \\\\[-1.8ex]\n",
      " Observations & 1019 \\\\\n",
      " $R^2$ & 0.071 \\\\\n",
      " Adjusted $R^2$ & 0.069 \\\\\n",
      " Residual Std. Error & 124.720 (df=1015) \\\\\n",
      " F Statistic & 25.987$^{***}$ (df=3; 1015) \\\\\n",
      "\\hline\n",
      "\\hline \\\\[-1.8ex]\n",
      "\\textit{Note:} & \\multicolumn{1}{r}{$^{*}$p$<$0.1; $^{**}$p$<$0.05; $^{***}$p$<$0.01} \\\\\n",
      "\\end{tabular}\n",
      "\\end{table}\n"
     ]
    }
   ],
   "source": [
    "# create regression summary table\n",
    "\n",
    "reg1 = sm.OLS(endog=df['price'], exog=sm.add_constant(df['eventweek'])).fit()\n",
    "reg2 = sm.OLS(endog=df['price'], exog=sm.add_constant(df['city'])).fit()\n",
    "reg3 = sm.OLS(endog=df['price'], exog=sm.add_constant(df[['city', 'eventweek', 'cityxevt']])).fit()\n",
    "reg4 = sm.OLS(endog=df['price'], exog=sm.add_constant(df[['city', 'eventweek', 'cityxevt', 'is_major_brand', 'wifi','aire_acondicionado','recepción','metro', \n",
    "                                                           'room_rating_instalaciones y servicios', 'rating']])).fit()\n",
    "\n",
    "stargazer = Stargazer([reg3, reg4])\n",
    "print(stargazer.render_latex())"
   ]
  },
  {
   "cell_type": "code",
   "execution_count": 117,
   "metadata": {},
   "outputs": [
    {
     "name": "stdout",
     "output_type": "stream",
     "text": [
      "\\begin{table}[!htbp] \\centering\n",
      "\\begin{tabular}{@{\\extracolsep{5pt}}lccc}\n",
      "\\\\[-1.8ex]\\hline\n",
      "\\hline \\\\[-1.8ex]\n",
      "& \\multicolumn{3}{c}{\\textit{Dependent variable: price}} \\\n",
      "\\cr \\cline{2-4}\n",
      "\\\\[-1.8ex] & (1) & (2) & (3) \\\\\n",
      "\\hline \\\\[-1.8ex]\n",
      " city & & 66.110$^{***}$ & 53.652$^{***}$ \\\\\n",
      "& & (9.235) & (12.990) \\\\\n",
      " cityxevt & & & 25.278$^{}$ \\\\\n",
      "& & & (18.262) \\\\\n",
      " const & 231.468$^{***}$ & 200.145$^{***}$ & 190.595$^{***}$ \\\\\n",
      "& (5.676) & (8.043) & (11.338) \\\\\n",
      " eventweek & 37.544$^{***}$ & & 18.794$^{}$ \\\\\n",
      "& (8.015) & & (15.906) \\\\\n",
      "\\hline \\\\[-1.8ex]\n",
      " Observations & 1019 & 1019 & 1019 \\\\\n",
      " $R^2$ & 0.021 & 0.048 & 0.071 \\\\\n",
      " Adjusted $R^2$ & 0.020 & 0.047 & 0.069 \\\\\n",
      " Residual Std. Error & 127.921 (df=1017) & 126.154 (df=1017) & 124.720 (df=1015) \\\\\n",
      " F Statistic & 21.943$^{***}$ (df=1; 1017) & 51.247$^{***}$ (df=1; 1017) & 25.987$^{***}$ (df=3; 1015) \\\\\n",
      "\\hline\n",
      "\\hline \\\\[-1.8ex]\n",
      "\\textit{Note:} & \\multicolumn{3}{r}{$^{*}$p$<$0.1; $^{**}$p$<$0.05; $^{***}$p$<$0.01} \\\\\n",
      "\\end{tabular}\n",
      "\\end{table}\n"
     ]
    }
   ],
   "source": [
    "# regression summary table\n",
    "stargazer = Stargazer([reg1, reg2, reg3])\n",
    "print(stargazer.render_latex())"
   ]
  },
  {
   "cell_type": "code",
   "execution_count": null,
   "metadata": {},
   "outputs": [],
   "source": []
  }
 ],
 "metadata": {
  "kernelspec": {
   "display_name": "bseenv1",
   "language": "python",
   "name": "python3"
  },
  "language_info": {
   "codemirror_mode": {
    "name": "ipython",
    "version": 3
   },
   "file_extension": ".py",
   "mimetype": "text/x-python",
   "name": "python",
   "nbconvert_exporter": "python",
   "pygments_lexer": "ipython3",
   "version": "3.11.4"
  }
 },
 "nbformat": 4,
 "nbformat_minor": 2
}
